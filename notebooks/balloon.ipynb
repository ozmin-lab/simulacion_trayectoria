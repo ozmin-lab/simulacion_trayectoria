{
 "cells": [
  {
   "attachments": {},
   "cell_type": "markdown",
   "metadata": {},
   "source": [
    "\n",
    "\n",
    "# Obtener el volumen inicial del Globo\n",
    "\n",
    "Para conocer el volumen inicial que debe de tener el globo para su elevación se proponene dos alternativas:"
   ]
  },
  {
   "attachments": {},
   "cell_type": "markdown",
   "metadata": {},
   "source": [
    "## 1. A partir de su tamaño de explosión"
   ]
  },
  {
   "attachments": {},
   "cell_type": "markdown",
   "metadata": {},
   "source": [
    "$$\n",
    "\\textbf{Ley de Gases ideales:}\n",
    "\\newline\n",
    "\\frac{P_{1} V_{1}}{n_{1} T_{1}} = \\frac{P_{2} V_{2}}{n_{2} T_{2}}\n",
    "\n",
    "$$\n",
    "\n",
    "Por medio de su tamaño final y considerando la mínima altura a la cual se espera la explosión, se puede obtener volumen inicial de llenado del globo. Por lo tanto se desarrolla:"
   ]
  },
  {
   "cell_type": "code",
   "execution_count": 9,
   "metadata": {},
   "outputs": [],
   "source": [
    "import math\n",
    "import sympy as sp"
   ]
  },
  {
   "cell_type": "code",
   "execution_count": 11,
   "metadata": {},
   "outputs": [],
   "source": [
    "# Variables simbólicas para el Computer Algebra System (CAS)\n",
    "v1 = sp.Symbol(\"v1\")\n",
    "\n",
    "# Volumen final [m^3]\n",
    "r_burst = 3.93  #   Datasheet del Globo Kaymont 1500\n",
    "v2 = (4/3)*math.pi*math.pow(r_burst, 3)\n",
    "\n",
    "# ∆ presiones (inicial, final) [bar]\n",
    "p1, p2 = 1, 0.0109 \n",
    "\n",
    "# ∆ temperaturas (inicial, final) [K]\n",
    "t1, t2 = 288, 227"
   ]
  },
  {
   "cell_type": "code",
   "execution_count": 31,
   "metadata": {},
   "outputs": [
    {
     "name": "stdout",
     "output_type": "stream",
     "text": [
      "Volumen inicial es: [3.51608519029893] [m^3] \n",
      "\n",
      "El volumen final es 72.31 veces más grande que el inicial\n"
     ]
    }
   ],
   "source": [
    "# Ecua. de Ley de Gases ideales\n",
    "eqn = sp.Eq((p1*v1)/t1, (p2*v2)/t2)\n",
    "# Solucionando\n",
    "volumen_inicial = sp.solve(eqn)\n",
    "\n",
    "# Resultado\n",
    "print(f\"Volumen inicial es: {volumen_inicial} [m^3] \\n\")\n",
    "print(f\"El volumen final es {round(v2/volumen_inicial[0], 2)} veces más grande que el inicial\")"
   ]
  },
  {
   "attachments": {},
   "cell_type": "markdown",
   "metadata": {},
   "source": [
    "## 2. En función de la carga"
   ]
  }
 ],
 "metadata": {
  "kernelspec": {
   "display_name": "base",
   "language": "python",
   "name": "python3"
  },
  "language_info": {
   "codemirror_mode": {
    "name": "ipython",
    "version": 3
   },
   "file_extension": ".py",
   "mimetype": "text/x-python",
   "name": "python",
   "nbconvert_exporter": "python",
   "pygments_lexer": "ipython3",
   "version": "3.9.13"
  },
  "orig_nbformat": 4
 },
 "nbformat": 4,
 "nbformat_minor": 2
}
