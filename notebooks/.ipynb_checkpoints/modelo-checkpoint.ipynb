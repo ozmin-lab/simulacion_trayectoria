{
 "cells": [
  {
   "cell_type": "markdown",
   "id": "5961b354",
   "metadata": {},
   "source": [
    "# Tabla de Contenido\n",
    "* [1. Preparación del Notebook](#prework)\n",
    "* [2. Descripición de la Misión ](#mision)\n",
    "    * [2.1 Propiedades del Sistema](#propiedades)\n",
    "    * [2.2 Estado del Sistema](#estado)\n",
    "    * [2.3 Perfil de la misión](#perfil)\n",
    "* [3. Modelo del Ambiente](#ambiente)\n",
    "    * [3.1 Atmosférico](#atmosferico)\n",
    "    * [3.2 Termico](#termico)\n",
    "    * [3.3 Tierra](#tierra)\n",
    "* [4. Modelo de Trayectoria](#trayectoria)\n",
    "    * [4.1 Viento](#atmosferico)\n",
    "    * [4.2 Geométrico](#termico)\n",
    "    * [4.3 Dinámico](#tierra)\n",
    "\n",
    "\n",
    "<!---\n",
    "\n",
    "* [5. Resultados y Discusión](#trayectoria)\n",
    "    * [5.1 Graficas](#atmosferico)\n",
    "    * [5.2 Metricas](#termico)\n",
    "    * [5.3 No sé jeje](#tierra)\n",
    "\n",
    "-->\n",
    "\n",
    "\n",
    "\n",
    "\n"
   ]
  },
  {
   "cell_type": "markdown",
   "id": "fec15df2",
   "metadata": {},
   "source": [
    "# 1. Preparación del Notebook  <a name=\"prework\"></a>"
   ]
  },
  {
   "cell_type": "code",
   "execution_count": 1,
   "id": "dcc31e2d",
   "metadata": {},
   "outputs": [],
   "source": [
    "%matplotlib inline                 \n",
    "import matplotlib.pyplot as plt   # Generación de gráficos a partir de listas o arrays. \n",
    "import numpy as np                # Manipulación de vectores, matrix y tensores"
   ]
  },
  {
   "cell_type": "markdown",
   "id": "b0172a75",
   "metadata": {},
   "source": [
    "> ⚠️**Warning:** Do not push the big red button.\n",
    "\n",
    "> 📝 **Note:** Sunrises are beautiful.\n",
    "\n",
    "> 💡💡 **Tip:** Remember to appreciate the little things in life."
   ]
  },
  {
   "cell_type": "markdown",
   "id": "e8189930",
   "metadata": {},
   "source": [
    "## Información de sesión\n",
    "\n",
    "Como una buena práctica colocamos la información de sesión al final de este notebook realizado. De esta forma, otras personas podrán ver qué versiones de librerías y dependencias se utilizaron para nuestro análisis.\n",
    "\n",
    "Además, esto permite ver si llegara alguien a tener un problema, puede compartir esta información con la comunidad o nosotros los desarrolladores de este notebook para que sea más fácil replicar el error y poder ayudar."
   ]
  },
  {
   "cell_type": "code",
   "execution_count": null,
   "id": "4b8b601a",
   "metadata": {},
   "outputs": [],
   "source": [
    "# Lo instalamos debido a que no viene por default en los notebooks\n",
    "! pip install session-info\n",
    "\n",
    "# Importamos la librería\n",
    "import session_info\n",
    "\n",
    "# Lanzamos el comando\n",
    "session_info.show()\n"
   ]
  },
  {
   "attachments": {},
   "cell_type": "markdown",
   "id": "c43b9493",
   "metadata": {},
   "source": [
    "# 2. Descripición de la Misión  <a name=\"mision\"></a>\n",
    "\n",
    "<figure>\n",
    "    <img src = \"../img/FasesDeVueloMission_StratoBalloon.png\"\n",
    "         alt = \"Fase de Vuelo\"\n",
    "         name = \"Fase de Vuelo\"\n",
    "         style=\"height: 400px; width:800px;\">\n",
    "    <figcaption> Fig. 1 Fase de Vuelo.</figcaption>\n",
    "</figure>\n",
    "\n",
    "\n",
    "\n",
    "\n",
    "Las operaciones con globos de gran altitud se resumen en 5 fases:\n",
    "- **Fase 1:** es el lanzamiento de la sonda desde unas coordenadas predefinidas.\n",
    "- **Fase 2:** es el ascenso de la sonda hasta una altura de varios kilómetros determinado por el fabricante del globo [7] y el peso de los instrumentos.\n",
    "- **Fase 3:** es la explosión del globo\n",
    "- **Fase 4:** es el descenso con solo el paracaídas y la carga útil.\n",
    "- **Fase 5:** que es la recuperación de la sonda con ayuda de los instrumentos de navegación"
   ]
  },
  {
   "cell_type": "markdown",
   "id": "7d588c9a",
   "metadata": {},
   "source": [
    "## 2.1 Propiedades del Sistema  <a name=\"propiedades\"></a>\n",
    "\n",
    "\n",
    "Son las cosas que son costantes de la misión por asi decirlo"
   ]
  },
  {
   "cell_type": "code",
   "execution_count": 2,
   "id": "304a0808",
   "metadata": {},
   "outputs": [],
   "source": [
    "# Sonde    \n",
    "BalloonMass = 0.5    # kg\n",
    "PayloadMass = 4      # kg\n",
    "TetherMass = 0.1     # kg\n",
    "ParachuteMass = 0.5  # kg\n",
    "rho_He0 = 0.179      # Density of Helium at sea level (kg/m3)\n",
    "C_dBalloon = 0.47    # drag coefficient of balloon\n",
    "C_dadded = 0.25      # c_Added coefficient\n",
    "\n",
    "# Parachute\n",
    "Cd_pchute = 0.3\t# Parachute drag coefficient\n",
    "Cd_spchute = 0.1\t# parachute side drag coefficient\n",
    "PDiam = 2\t\t# parachute diameter (m)\n",
    "PSideL = 0.1\t\t# parachute side length, flaps (m)"
   ]
  },
  {
   "cell_type": "markdown",
   "id": "59441aaa",
   "metadata": {},
   "source": [
    "## 2.2 Estado del Sistema  <a name=\"estado\"></a>\n",
    "\n",
    "Fases de vuelo y las condiciones en las cuales se encuentra la sonda en el espacio"
   ]
  },
  {
   "cell_type": "code",
   "execution_count": 3,
   "id": "3dc927f0",
   "metadata": {},
   "outputs": [
    {
     "ename": "NameError",
     "evalue": "name 'pi' is not defined",
     "output_type": "error",
     "traceback": [
      "\u001b[0;31m---------------------------------------------------------------------------\u001b[0m",
      "\u001b[0;31mNameError\u001b[0m                                 Traceback (most recent call last)",
      "\u001b[0;32m/tmp/ipykernel_3942/4187372953.py\u001b[0m in \u001b[0;36m<module>\u001b[0;34m\u001b[0m\n\u001b[1;32m      5\u001b[0m \u001b[0mz_init\u001b[0m \u001b[0;34m=\u001b[0m \u001b[0;36m1\u001b[0m\u001b[0;34m\u001b[0m\u001b[0;34m\u001b[0m\u001b[0m\n\u001b[1;32m      6\u001b[0m \u001b[0mballoon_diam_init\u001b[0m \u001b[0;34m=\u001b[0m \u001b[0;36m2.3\u001b[0m \u001b[0;31m# balloon initial diamenter\u001b[0m\u001b[0;34m\u001b[0m\u001b[0;34m\u001b[0m\u001b[0m\n\u001b[0;32m----> 7\u001b[0;31m \u001b[0mgamma_init\u001b[0m \u001b[0;34m=\u001b[0m \u001b[0mpi\u001b[0m\u001b[0;34m/\u001b[0m\u001b[0;36m2\u001b[0m               \u001b[0;31m# gamma angle\u001b[0m\u001b[0;34m\u001b[0m\u001b[0;34m\u001b[0m\u001b[0m\n\u001b[0m\u001b[1;32m      8\u001b[0m \u001b[0mchi_init\u001b[0m \u001b[0;34m=\u001b[0m \u001b[0;36m0\u001b[0m\u001b[0;31m# chi angle\u001b[0m\u001b[0;34m\u001b[0m\u001b[0;34m\u001b[0m\u001b[0m\n\u001b[1;32m      9\u001b[0m \u001b[0mlat_init\u001b[0m \u001b[0;34m=\u001b[0m \u001b[0;36m13.808826\u001b[0m\u001b[0;34m\u001b[0m\u001b[0;34m\u001b[0m\u001b[0m\n",
      "\u001b[0;31mNameError\u001b[0m: name 'pi' is not defined"
     ]
    }
   ],
   "source": [
    "system_stage = 0\t\t# Mission stage:  0=balloon 1=parachute 2=gliding\n",
    "v_init = 0\t\t\t# velocity m/s\n",
    "x_init = 0\t\t\t# x,y,z position\n",
    "y_init = 0\n",
    "z_init = 1\n",
    "balloon_diam_init = 2.3\t# balloon initial diamenter\n",
    "gamma_init = pi/2\t\t# gamma angle\n",
    "chi_init = 0# chi angle\n",
    "lat_init = 13.808826\n",
    "lon_init = -89.328988"
   ]
  },
  {
   "cell_type": "markdown",
   "id": "32a841b6",
   "metadata": {},
   "source": [
    "## 2.3 Perfil de la mision  <a name=\"perfil\"></a>\n",
    "\n",
    "\n",
    "Objetivos de activación de la misión"
   ]
  },
  {
   "cell_type": "code",
   "execution_count": null,
   "id": "ae8f090e",
   "metadata": {},
   "outputs": [],
   "source": [
    "balloon_separation = 30000\t# m\n",
    "parachute1_separation = 16000\t# m\n",
    "\n",
    "system_state = [ system_stage v_init x_init y_init z_init balloon_diam_init gamma_init chi_init lat_init lon_init]\n",
    "system_state_hist = system_state\n",
    "wvector_hist = []\n",
    "glider_control = [0 0]\n"
   ]
  },
  {
   "cell_type": "markdown",
   "id": "da5e5858",
   "metadata": {},
   "source": [
    "## Parachute\n",
    "\n",
    "Saber las dimensiones del parachute\n",
    "Peso para detener la carga\n",
    "\n",
    "¿Cómo deberminar la resistencia que debe ofrecer el paracaidas a la carga?\n",
    "\n",
    "\n",
    "## Formas de hacer los cálculos:\n",
    "\n",
    "### Vertical: \n",
    "zo = altura a la que se lanza\n",
    "\n",
    "\n",
    "### horixontal:\n",
    "xo =  posición horizontal en al que se encuentra\n",
    "\n",
    "\n",
    "Aplicar las ecuaciones de Cinemática"
   ]
  },
  {
   "cell_type": "code",
   "execution_count": null,
   "id": "81a18b17",
   "metadata": {},
   "outputs": [],
   "source": [
    "def temp(h_g):\n",
    "    h_g = float(h_g)\n",
    "    h = (6371000 * h_g) / (6371000 + h_g)\n",
    "    if h <= 11000:\n",
    "        t = 288 + -6.5e-3 * h\n",
    "        \n",
    "    elif 11000 < h <= 25000:\n",
    "        t = 216.66\n",
    "        \n",
    "    elif 25000 < h <= 47000:\n",
    "        t = 216.66 + 3e-3 * h\n",
    "        \n",
    "    elif 47000 < h <= 53000:\n",
    "        t = 282.66\n",
    "        \n",
    "    elif 53000 < h <= 79000:\n",
    "        t = 282.66 + -4.5e-3 * h\n",
    "        \n",
    "    elif 79000 < h <= 90000:\n",
    "        t = 165.66\n",
    "        \n",
    "    elif 90000 < h <= 105000:\n",
    "        t = 165.66 + 4e-3 * h\n",
    "        \n",
    "    else:\n",
    "        print(\"You're out of the Troposphere\")\n",
    "        \n",
    "    return t\n",
    "\n",
    "\n",
    "def pressure(h_g):\n",
    "    h_g = float(h_g)\n",
    "    h = (6371000 * h_g) / (6371000 + h_g)\n",
    "    \n",
    "    if h <= 11000:              #TROPOSPHERE\n",
    "        p = 101325 * ((288 + -6.5e-3 * h) / 288) ** (-9.81 / (287 * -6.5e-3))\n",
    "        \n",
    "    elif 11000 < h <= 25000:    #TROPOPAUSE\n",
    "        p = 101325 * ((288 + -6.5e-3 * ((6371000 * 11000) / (6371000 + 11000))) / 288) ** (-9.81 / (287 * -6.5e-3))\n",
    "        \n",
    "    else:\n",
    "        print(\"You're out of the Troposphere\")\n",
    "    \n",
    "    return p\n",
    "\n",
    "\n",
    "def density(h_g):\n",
    "    h_g = float(h_g)\n",
    "    h = (6371000 * h_g) / (6371000 + h_g)\n",
    "    \n",
    "    if h <= 11000:              #TROPOSPHERE\n",
    "        rho = 1.225 * ((288 + -6.5e-3 * h) / 288) ** (-9.81 / (287 * -6.5e-3 - 1))\n",
    "    \n",
    "    elif 11000 < h <= 25000:    # TROPOPAUSE\n",
    "        rho = 1.225 * ((288 + -6.5e-3 * ((6371000 * 11000) / (6371000 + 11000)))/ 288) ** (-9.81 / (287 * -6.5e-3 - 1))\n",
    "    \n",
    "    else:\n",
    "        print(\"You're out of the Troposphere\")\n",
    "    \n",
    "    return rho"
   ]
  }
 ],
 "metadata": {
  "celltoolbar": "Raw Cell Format",
  "kernelspec": {
   "display_name": "Python 3 (ipykernel)",
   "language": "python",
   "name": "python3"
  },
  "language_info": {
   "codemirror_mode": {
    "name": "ipython",
    "version": 3
   },
   "file_extension": ".py",
   "mimetype": "text/x-python",
   "name": "python",
   "nbconvert_exporter": "python",
   "pygments_lexer": "ipython3",
   "version": "3.9.13"
  }
 },
 "nbformat": 4,
 "nbformat_minor": 5
}
