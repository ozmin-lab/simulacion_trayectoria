{
 "cells": [
  {
   "cell_type": "markdown",
   "metadata": {
    "id": "1w0zWNZKsObz"
   },
   "source": [
    "**Recomendación antes de empezar:** \n",
    "\n",
    "Activar el GPU para que el entrenamiento sea más rápido.Para ello entran a:\n",
    "\n",
    "***Runtime -> Change runtime type -> Hardware Accelerator = GPU***"
   ]
  },
  {
   "cell_type": "markdown",
   "metadata": {
    "id": "6BU_4HffMqcH"
   },
   "source": [
    "# Red Neuronal Clasificadora de Numeros Hindí (0-9)\n",
    "\n",
    "## Descrición de los caracteres \n",
    "\n",
    "Este conjunto de datos se adoptó del lenguaje  Hindí escritura **Devanagari**, conteniendo orignialmente **92,000 imágenes con 46 clases de caracteres** *(Acharya & Gyawali, 2016)*; se hizo una disminución del tamaño general de la base de datos acorde a nuestras necesidades.\n",
    "\n",
    "Ahora hay un total de 20,000 imágenes en escala de grises de tamaño 32x32 píxeles cuyo valor oscila entre 0-255. Cada caso representa una etiqueta (0-9) como un mapa uno a uno para cada número entero de 0-9. \n",
    "\n",
    "Mostramos la estructura del directorio del cual sacaremos nuestro dataset:\n",
    "\n",
    "\n",
    "```\n",
    "17,000 imágenes con 10 clases\n",
    "\n",
    "train/\n",
    "        digital_0/\n",
    "        digital_1/\n",
    "        digital_2/\n",
    "        digital_3/\n",
    "        digital_4/\n",
    "        digital_5/\n",
    "        digital_6/\n",
    "        digital_7/\n",
    "        digital_8/\n",
    "        digital_9/\n",
    "```\n",
    "``` \n",
    "3,000 imágenes con 10 clases\n",
    "\n",
    "test/\n",
    "        digital_0/\n",
    "        digital_1/\n",
    "        digital_2/\n",
    "        digital_3/\n",
    "        digital_4/\n",
    "        digital_5/\n",
    "        digital_6/\n",
    "        digital_7/\n",
    "        digital_8/\n",
    "        digital_9/\n",
    "```\n",
    "\n",
    "Los datos se almacenan de forma ordenada y son compatibles para su uso en el flujo de datos en la API de TensorFlow. Cada carpeta recibe un nombre de acuerdo con la clase de imágenes almacenadas en su interior, lo que facilita su carga y visualización. \n",
    "\n",
    "**Las imágenes se almacenan en formato de archivo 'PNG'.**\n",
    "\n",
    "\n",
    "Según la investigación y quienes compartieron la base de datos a [University of California Irvine](https://uci.edu/) por sus siglas UCI (Acharya & Gyawali, 2015, p. 2), los datos originales de las imagenes fueron escritas manualmente a muchos individuos para tener una gran variedad en la forma en como se escribe los caracteres, luego estos se escanearon y recortaron los cientos de documentos escritos a manos con los diferentes caracteres generandose así la base de datos. Cada imagen es de 32x32 pixeles y el caracter respectivo está centrado en 28x28 pixeles. Las imagenes fueron preprocesadas aplicandoseles una conversion a escalas de grises y se invirtió su coloración haciendose que el caractere fuera blanco y su fondo fuera de color negro. \n",
    "\n",
    "\n",
    "\n",
    "**Fuente:** \n",
    "  \n",
    "1.  Acharya, S. & Gyawali, P. K. (2016, 1 septiembre). UCI Machine Learning Repository: Devanagari Handwritten Character Dataset Data Set. archive.uci.edu. Recuperado 30 de agosto de 2022, de https://archive.ics.uci.edu/ml/datasets/Devanagari+Handwritten+Character+Dataset\n",
    "\n",
    "2.  Acharya, S. A & Gyawali, P. K. G. (2015, 1 diciembre). Deep learning based large scale handwritten devanagari character recognition. IEEE Conference Publication | IEEE Xplore. Recuperado 10 de septiembre de 2022, de https://ieeexplore.ieee.org/document/7400041/citations?tabFilter=papers#citations\n",
    "\n",
    "Ya explicado el origen de nuestra base de datos ya podemos entrar en materia a crear nuestra red neuronal, pero antes mostraremos los números en escritura devanagari del idioma Hindi los cuales son los siguientes:\n",
    "\n"
   ]
  },
  {
   "cell_type": "markdown",
   "metadata": {
    "id": "pzq7S71f6nCW"
   },
   "source": [
    "Ya hablado de origen de nuestro archivos, procedemos a entrar en materia a desarrollar nuestra red. Los numeros en Hindí son los siguientes:"
   ]
  },
  {
   "cell_type": "markdown",
   "metadata": {
    "id": "06Sexrq062kv"
   },
   "source": [
    "![devanag_numeros.gif](data:image/gif;base64,R0lGODlh6wFiAJEAAHGCfrnP0P///wIDAywAAAAA6wFiAAAC/5yPqcvtD6OctNqLs968+w+G4kiW5omm6sq27qsK8kzX9o3n+s73/g8MCofEovGITCqXzKbTiHhKp9Sq9YrNarfcri3qDYvH5LL5jE4LwOq2+w2Py+dJNv2Oz+v3/Ka9DxgoOEio9leImKi4yBh02AgZKTmp90h5iZmpqWW56fkJGurTKVpqeopJirrK2hqo6horO2t4QHuLm1sGq9vr+1vECzxMXEwjbJysjIu87PyM2gw9Ta0pPYMAUL3NLXgto9AtPk73DQYwQK6+jmZucMwVgJ6ZPlrPju9nK/SOfW/lYEsABlX26fjmyGCYBPkIuTv2r2BATgSpKPxyQJvEAf4BxFSMFrEgn28DO4ILOWUgDpVj5lnshxHmRo8LNJ66KGVBHoQwZXo06RGgzzUI+Q3NYsAmuFVFf9RE+aboQJwLoSLleEVmU6NWhe5COZXm0SZTtXZN03Qrk7FXsRg8AFQoSrZrz7oNiY5qVr1kL9JFy7eH2iV/9enMkjdwzpBw5ZJx6S8cRax7Iypud/lgYYqTJV/d7MQnw43vQDeBLCPxyc6fa2QO/fqkadexDUOcjaSBlsR2n4geLPgwpxp5Id7FjcQl7y26gyOXXbXnc9vHDcTFMlAp0d6ERzOPm924FdVcPt6NTHnHN/Jdmu867q+8+70tI7pEcB329NzZ2v9b3uwOd4sJR8Z+QCQVH3PzjSegFCyh198UwBEx4YHpQcdDUQ0+wduGTlw3gHaL3dZFWY0hJWJ5NxBYF4JjWOdfOv+4qNl+BipRmxN52VScV5F5EUCQq7X14lwh5vhDWWbAqCBjvTX1oBhRNunZRh0umeKIMpSVpYT5weMbklSEpUVZcQEopnhSetidAl3q512Rn2lToT05oNYim1TgKZdZzumpZhh8fpamEYm9KR+gXFUJH22KqsdWoVA8mhCLOah1I46UFrGcKZJWmsCXVt62KQ58fUphphZG+OcRdQ5BZlA3qZqQGB2imuFvr9pTKmmu4spfgb16QysQUyYa54D/IW6Z7BY9wqHWs2IViGgqyzo7LKeijunmV9nCWce3qVYr0azi7nCsNcXyd26b7VYlrClTkXvau77smqcigyooL7C1NuSovewKDPAZ/lq4LTvpArZuwbFc6/Ad+EZMccWgWoxxxqxpzHHH4HoMcsjBHCxyyQ5PbHLK5KCscsvbsOxyzM/ALHPNxtBsc86/4Kxzz8yQ7HPQOwMtdNE/N2x00rPwrHTTnzDtdNTWIi111aDwRLRTVHMlq8FQO+oFo5Vt7Vyii04aHdm8qq0ZZlmXHXazPhLlH91t4ZYWwSvWw7Z6CTbZTrxdryHf30TaPfdseQvO+GRu0xQ44Igf3veQ/pPnamDlkH7V3uVivV2j5n7HKLqamku3qqKlm+qt3thY/ji/nqsY9+oJnn6P4pLaTpvXrufu+r+cwd558aCHrjfqWmce/IqAEXp8MIUTz1zchk9PH/Who73Q65xXFz2F2PPu/fjN936e9pfufj6EkC9V95L9tE83+eXLPntl/OKdpth92r8d+wEwYPTDUPfS1r7w7c1DX7OaAxXRwAdKcBARnKAFR6LAC2oQEBXcoAfj0MEPirAWAxyhCVt3whR6IoQqbCGVXAhDSbAwhjRUVg1viIgZ4nCHvyohD3+YKh8CcYjLKyARj1hEJCrRDTBoohOfCMUoSnGKVKyiFa+IC8UsanGLXOziCgoAADs=)"
   ]
  },
  {
   "cell_type": "markdown",
   "metadata": {
    "id": "Y_-l_X4v1xiu"
   },
   "source": []
  },
  {
   "cell_type": "markdown",
   "metadata": {
    "id": "EIB-MascLVMM"
   },
   "source": [
    "## Prework"
   ]
  },
  {
   "cell_type": "code",
   "execution_count": null,
   "metadata": {
    "colab": {
     "base_uri": "https://localhost:8080/",
     "height": 35
    },
    "executionInfo": {
     "elapsed": 2692,
     "status": "ok",
     "timestamp": 1663083551064,
     "user": {
      "displayName": "Osmin Larreynaga",
      "userId": "07609879780988336972"
     },
     "user_tz": 360
    },
    "id": "XwF0aJwcKH99",
    "outputId": "451d4ce0-865b-4fd1-a842-9ef5e53a13f4"
   },
   "outputs": [
    {
     "data": {
      "application/vnd.google.colaboratory.intrinsic+json": {
       "type": "string"
      },
      "text/plain": [
       "'2.8.2'"
      ]
     },
     "execution_count": 1,
     "metadata": {},
     "output_type": "execute_result"
    }
   ],
   "source": [
    "#Consultamos que version de TensorFlow tiene por default Colab\n",
    "import tensorflow as tf\n",
    "tf.__version__"
   ]
  },
  {
   "cell_type": "markdown",
   "metadata": {
    "id": "1w6iubQrlfFV"
   },
   "source": [
    "Al momento de hacer este notebook [11/09/2022] la version de **Tensorflow**  más reciente y estable es la **2.10.0** con la cual hemos consultado su [documentacion oficial](https://www.tensorflow.org/api_docs/python/tf), por lo tanto actualizaremos Tensorflow de nuestro notebook.\n"
   ]
  },
  {
   "cell_type": "code",
   "execution_count": null,
   "metadata": {
    "colab": {
     "base_uri": "https://localhost:8080/",
     "height": 1000
    },
    "executionInfo": {
     "elapsed": 76079,
     "status": "ok",
     "timestamp": 1663083629516,
     "user": {
      "displayName": "Osmin Larreynaga",
      "userId": "07609879780988336972"
     },
     "user_tz": 360
    },
    "id": "ZXgctsiLiz2w",
    "outputId": "0a5a3c9e-3ce3-40b4-e672-a0d3b46981a9"
   },
   "outputs": [
    {
     "name": "stdout",
     "output_type": "stream",
     "text": [
      "Found existing installation: tensorflow 2.8.2+zzzcolab20220719082949\n",
      "Uninstalling tensorflow-2.8.2+zzzcolab20220719082949:\n",
      "  Successfully uninstalled tensorflow-2.8.2+zzzcolab20220719082949\n",
      "Looking in indexes: https://pypi.org/simple, https://us-python.pkg.dev/colab-wheels/public/simple/\n",
      "Collecting tensorflow==2.10.0\n",
      "  Downloading tensorflow-2.10.0-cp37-cp37m-manylinux_2_17_x86_64.manylinux2014_x86_64.whl (578.0 MB)\n",
      "\u001b[K     |████████████████████████████████| 578.0 MB 15 kB/s \n",
      "\u001b[?25hRequirement already satisfied: protobuf<3.20,>=3.9.2 in /usr/local/lib/python3.7/dist-packages (from tensorflow==2.10.0) (3.17.3)\n",
      "Requirement already satisfied: keras-preprocessing>=1.1.1 in /usr/local/lib/python3.7/dist-packages (from tensorflow==2.10.0) (1.1.2)\n",
      "Requirement already satisfied: setuptools in /usr/local/lib/python3.7/dist-packages (from tensorflow==2.10.0) (57.4.0)\n",
      "Requirement already satisfied: google-pasta>=0.1.1 in /usr/local/lib/python3.7/dist-packages (from tensorflow==2.10.0) (0.2.0)\n",
      "Requirement already satisfied: termcolor>=1.1.0 in /usr/local/lib/python3.7/dist-packages (from tensorflow==2.10.0) (1.1.0)\n",
      "Requirement already satisfied: tensorflow-io-gcs-filesystem>=0.23.1 in /usr/local/lib/python3.7/dist-packages (from tensorflow==2.10.0) (0.26.0)\n",
      "Requirement already satisfied: wrapt>=1.11.0 in /usr/local/lib/python3.7/dist-packages (from tensorflow==2.10.0) (1.14.1)\n",
      "Requirement already satisfied: numpy>=1.20 in /usr/local/lib/python3.7/dist-packages (from tensorflow==2.10.0) (1.21.6)\n",
      "Requirement already satisfied: absl-py>=1.0.0 in /usr/local/lib/python3.7/dist-packages (from tensorflow==2.10.0) (1.2.0)\n",
      "Requirement already satisfied: opt-einsum>=2.3.2 in /usr/local/lib/python3.7/dist-packages (from tensorflow==2.10.0) (3.3.0)\n",
      "Requirement already satisfied: libclang>=13.0.0 in /usr/local/lib/python3.7/dist-packages (from tensorflow==2.10.0) (14.0.6)\n",
      "Collecting keras<2.11,>=2.10.0\n",
      "  Downloading keras-2.10.0-py2.py3-none-any.whl (1.7 MB)\n",
      "\u001b[K     |████████████████████████████████| 1.7 MB 58.8 MB/s \n",
      "\u001b[?25hRequirement already satisfied: flatbuffers>=2.0 in /usr/local/lib/python3.7/dist-packages (from tensorflow==2.10.0) (2.0.7)\n",
      "Collecting gast<=0.4.0,>=0.2.1\n",
      "  Downloading gast-0.4.0-py3-none-any.whl (9.8 kB)\n",
      "Requirement already satisfied: packaging in /usr/local/lib/python3.7/dist-packages (from tensorflow==2.10.0) (21.3)\n",
      "Collecting tensorboard<2.11,>=2.10\n",
      "  Downloading tensorboard-2.10.0-py3-none-any.whl (5.9 MB)\n",
      "\u001b[K     |████████████████████████████████| 5.9 MB 56.1 MB/s \n",
      "\u001b[?25hRequirement already satisfied: h5py>=2.9.0 in /usr/local/lib/python3.7/dist-packages (from tensorflow==2.10.0) (3.1.0)\n",
      "Requirement already satisfied: grpcio<2.0,>=1.24.3 in /usr/local/lib/python3.7/dist-packages (from tensorflow==2.10.0) (1.48.1)\n",
      "Requirement already satisfied: astunparse>=1.6.0 in /usr/local/lib/python3.7/dist-packages (from tensorflow==2.10.0) (1.6.3)\n",
      "Requirement already satisfied: six>=1.12.0 in /usr/local/lib/python3.7/dist-packages (from tensorflow==2.10.0) (1.15.0)\n",
      "Collecting tensorflow-estimator<2.11,>=2.10.0\n",
      "  Downloading tensorflow_estimator-2.10.0-py2.py3-none-any.whl (438 kB)\n",
      "\u001b[K     |████████████████████████████████| 438 kB 67.1 MB/s \n",
      "\u001b[?25hRequirement already satisfied: typing-extensions>=3.6.6 in /usr/local/lib/python3.7/dist-packages (from tensorflow==2.10.0) (4.1.1)\n",
      "Requirement already satisfied: wheel<1.0,>=0.23.0 in /usr/local/lib/python3.7/dist-packages (from astunparse>=1.6.0->tensorflow==2.10.0) (0.37.1)\n",
      "Requirement already satisfied: cached-property in /usr/local/lib/python3.7/dist-packages (from h5py>=2.9.0->tensorflow==2.10.0) (1.5.2)\n",
      "Requirement already satisfied: google-auth-oauthlib<0.5,>=0.4.1 in /usr/local/lib/python3.7/dist-packages (from tensorboard<2.11,>=2.10->tensorflow==2.10.0) (0.4.6)\n",
      "Requirement already satisfied: markdown>=2.6.8 in /usr/local/lib/python3.7/dist-packages (from tensorboard<2.11,>=2.10->tensorflow==2.10.0) (3.4.1)\n",
      "Requirement already satisfied: requests<3,>=2.21.0 in /usr/local/lib/python3.7/dist-packages (from tensorboard<2.11,>=2.10->tensorflow==2.10.0) (2.23.0)\n",
      "Requirement already satisfied: werkzeug>=1.0.1 in /usr/local/lib/python3.7/dist-packages (from tensorboard<2.11,>=2.10->tensorflow==2.10.0) (1.0.1)\n",
      "Requirement already satisfied: tensorboard-plugin-wit>=1.6.0 in /usr/local/lib/python3.7/dist-packages (from tensorboard<2.11,>=2.10->tensorflow==2.10.0) (1.8.1)\n",
      "Requirement already satisfied: tensorboard-data-server<0.7.0,>=0.6.0 in /usr/local/lib/python3.7/dist-packages (from tensorboard<2.11,>=2.10->tensorflow==2.10.0) (0.6.1)\n",
      "Requirement already satisfied: google-auth<3,>=1.6.3 in /usr/local/lib/python3.7/dist-packages (from tensorboard<2.11,>=2.10->tensorflow==2.10.0) (1.35.0)\n",
      "Requirement already satisfied: rsa<5,>=3.1.4 in /usr/local/lib/python3.7/dist-packages (from google-auth<3,>=1.6.3->tensorboard<2.11,>=2.10->tensorflow==2.10.0) (4.9)\n",
      "Requirement already satisfied: cachetools<5.0,>=2.0.0 in /usr/local/lib/python3.7/dist-packages (from google-auth<3,>=1.6.3->tensorboard<2.11,>=2.10->tensorflow==2.10.0) (4.2.4)\n",
      "Requirement already satisfied: pyasn1-modules>=0.2.1 in /usr/local/lib/python3.7/dist-packages (from google-auth<3,>=1.6.3->tensorboard<2.11,>=2.10->tensorflow==2.10.0) (0.2.8)\n",
      "Requirement already satisfied: requests-oauthlib>=0.7.0 in /usr/local/lib/python3.7/dist-packages (from google-auth-oauthlib<0.5,>=0.4.1->tensorboard<2.11,>=2.10->tensorflow==2.10.0) (1.3.1)\n",
      "Requirement already satisfied: importlib-metadata>=4.4 in /usr/local/lib/python3.7/dist-packages (from markdown>=2.6.8->tensorboard<2.11,>=2.10->tensorflow==2.10.0) (4.12.0)\n",
      "Requirement already satisfied: zipp>=0.5 in /usr/local/lib/python3.7/dist-packages (from importlib-metadata>=4.4->markdown>=2.6.8->tensorboard<2.11,>=2.10->tensorflow==2.10.0) (3.8.1)\n",
      "Requirement already satisfied: pyasn1<0.5.0,>=0.4.6 in /usr/local/lib/python3.7/dist-packages (from pyasn1-modules>=0.2.1->google-auth<3,>=1.6.3->tensorboard<2.11,>=2.10->tensorflow==2.10.0) (0.4.8)\n",
      "Requirement already satisfied: idna<3,>=2.5 in /usr/local/lib/python3.7/dist-packages (from requests<3,>=2.21.0->tensorboard<2.11,>=2.10->tensorflow==2.10.0) (2.10)\n",
      "Requirement already satisfied: certifi>=2017.4.17 in /usr/local/lib/python3.7/dist-packages (from requests<3,>=2.21.0->tensorboard<2.11,>=2.10->tensorflow==2.10.0) (2022.6.15)\n",
      "Requirement already satisfied: chardet<4,>=3.0.2 in /usr/local/lib/python3.7/dist-packages (from requests<3,>=2.21.0->tensorboard<2.11,>=2.10->tensorflow==2.10.0) (3.0.4)\n",
      "Requirement already satisfied: urllib3!=1.25.0,!=1.25.1,<1.26,>=1.21.1 in /usr/local/lib/python3.7/dist-packages (from requests<3,>=2.21.0->tensorboard<2.11,>=2.10->tensorflow==2.10.0) (1.24.3)\n",
      "Requirement already satisfied: oauthlib>=3.0.0 in /usr/local/lib/python3.7/dist-packages (from requests-oauthlib>=0.7.0->google-auth-oauthlib<0.5,>=0.4.1->tensorboard<2.11,>=2.10->tensorflow==2.10.0) (3.2.0)\n",
      "Requirement already satisfied: pyparsing!=3.0.5,>=2.0.2 in /usr/local/lib/python3.7/dist-packages (from packaging->tensorflow==2.10.0) (3.0.9)\n",
      "Installing collected packages: tensorflow-estimator, tensorboard, keras, gast, tensorflow\n",
      "  Attempting uninstall: tensorflow-estimator\n",
      "    Found existing installation: tensorflow-estimator 2.8.0\n",
      "    Uninstalling tensorflow-estimator-2.8.0:\n",
      "      Successfully uninstalled tensorflow-estimator-2.8.0\n",
      "  Attempting uninstall: tensorboard\n",
      "    Found existing installation: tensorboard 2.8.0\n",
      "    Uninstalling tensorboard-2.8.0:\n",
      "      Successfully uninstalled tensorboard-2.8.0\n",
      "  Attempting uninstall: keras\n",
      "    Found existing installation: keras 2.8.0\n",
      "    Uninstalling keras-2.8.0:\n",
      "      Successfully uninstalled keras-2.8.0\n",
      "  Attempting uninstall: gast\n",
      "    Found existing installation: gast 0.5.3\n",
      "    Uninstalling gast-0.5.3:\n",
      "      Successfully uninstalled gast-0.5.3\n",
      "Successfully installed gast-0.4.0 keras-2.10.0 tensorboard-2.10.0 tensorflow-2.10.0 tensorflow-estimator-2.10.0\n"
     ]
    },
    {
     "data": {
      "application/vnd.colab-display-data+json": {
       "pip_warning": {
        "packages": [
         "gast",
         "keras",
         "tensorboard",
         "tensorflow"
        ]
       }
      }
     },
     "metadata": {},
     "output_type": "display_data"
    }
   ],
   "source": [
    "# Desintalamos la version antigua\n",
    "! pip uninstall tensorflow -y\n",
    "# Actualizamos Tensorflow\n",
    "! pip install tensorflow==2.10.0"
   ]
  },
  {
   "cell_type": "markdown",
   "metadata": {
    "id": "B-9gHD9e2Zzx"
   },
   "source": [
    "**Recomendación:** \n",
    "\n",
    "Es muy problable que te haya solicitado restaurar el runtime de Colab, asi que sigue esto pasos para realizarlo (CTRL+M) o el siguiente:\n",
    "\n",
    "**Runtime -> Restart runtime** "
   ]
  },
  {
   "cell_type": "code",
   "execution_count": null,
   "metadata": {
    "colab": {
     "base_uri": "https://localhost:8080/",
     "height": 35
    },
    "executionInfo": {
     "elapsed": 222,
     "status": "ok",
     "timestamp": 1663085024280,
     "user": {
      "displayName": "Osmin Larreynaga",
      "userId": "07609879780988336972"
     },
     "user_tz": 360
    },
    "id": "yzyGSmCG3CJW",
    "outputId": "992fe7f7-54c9-4aa6-f208-035716a0b66d"
   },
   "outputs": [
    {
     "data": {
      "application/vnd.google.colaboratory.intrinsic+json": {
       "type": "string"
      },
      "text/plain": [
       "'2.10.0'"
      ]
     },
     "execution_count": 16,
     "metadata": {},
     "output_type": "execute_result"
    }
   ],
   "source": [
    "#Consultamos que versión de tensorflow tenemos:\n",
    "import tensorflow as tf\n",
    "tf.__version__"
   ]
  },
  {
   "cell_type": "markdown",
   "metadata": {
    "id": "jAoqnMOjT31V"
   },
   "source": [
    "En el apartado de este notebook **Información de la sección** se muestra todas las versiones de las diferentes librerias que se utilizaron. \n",
    "\n",
    "No esta demás decir, que es necesario y es una buena práctica realizar esta acción siempre, ya que de esta forma es posible reconocer errores por incompatibilidad en programas, además se puede consultar la funcionalidad de las librerias pertinentes en documentación, en nuestro caso lo que más utilizamos es Tensorflow por lo que por ello necesitamos saber que version se posee o necesita para ver su documentación oficial.\n",
    "\n"
   ]
  },
  {
   "cell_type": "markdown",
   "metadata": {
    "id": "tquq0Oos9cSr"
   },
   "source": [
    "## Almacenamiento Base de datos"
   ]
  },
  {
   "cell_type": "markdown",
   "metadata": {
    "id": "RI_yNEhZTZLE"
   },
   "source": [
    "### Importación de BD"
   ]
  },
  {
   "cell_type": "markdown",
   "metadata": {
    "id": "q4524JMj95KZ"
   },
   "source": [
    "La base de datos original tenia caracteres que no nos interesaba para nuestro entrenamiento, entonces la eliminamos manualmente seleccionando en la carpeta `train` y `test` esos caracteres demás. Luego de ello cargamos esa información en el `drive` de `hectorosminn@gmail.com` de aqui ya podemos importar la bd a nuestro colab. De click [aquí](https://drive.google.com/drive/folders/1FnrHbP2z0S-pu1cqxRHLIZbb6t-l67vw?usp=sharing) para consultar el drive. Entonces podemos resumir lo anterior con:\n",
    "\n",
    "\n",
    "\n",
    "1.   Limpiamos la BD de los caracteres extra\n",
    "2.   Cargamos nuestra BD a un drive\n",
    "3.   Ya es consumible desde cualquier colab con acceso al drive cargado la BD.\n",
    "\n",
    "\n"
   ]
  },
  {
   "cell_type": "markdown",
   "metadata": {
    "id": "QXCcd9LS57N8"
   },
   "source": [
    "Corremos un comando de linux para ver en que carpeta nos ubicamos, esto con el objetivo de luego carga nuestro dataset"
   ]
  },
  {
   "cell_type": "code",
   "execution_count": null,
   "metadata": {
    "colab": {
     "base_uri": "https://localhost:8080/"
    },
    "executionInfo": {
     "elapsed": 170,
     "status": "ok",
     "timestamp": 1663044671897,
     "user": {
      "displayName": "Osmin Larreynaga",
      "userId": "07609879780988336972"
     },
     "user_tz": 360
    },
    "id": "MfZxwqfnaSYD",
    "outputId": "992818a8-5728-4a00-d37a-924891d4ff55"
   },
   "outputs": [
    {
     "name": "stdout",
     "output_type": "stream",
     "text": [
      "/content\n"
     ]
    }
   ],
   "source": [
    "! pwd"
   ]
  },
  {
   "cell_type": "markdown",
   "metadata": {
    "id": "9JXTfP7uxRPo"
   },
   "source": [
    "Importamos nuestra base de datos manualmente, seleccionando el archivo descargado del drive y subiendolo en ```\n",
    "/content```, se subira en formato \".zip\".\n",
    "\n",
    "Con el siguietne código se lee el archivo .zip, se descomprime y se almacena en ```/content```\n",
    "\n",
    "\n",
    "\n",
    "\n"
   ]
  },
  {
   "cell_type": "code",
   "execution_count": null,
   "metadata": {
    "id": "8gpLBQ3FkGOy"
   },
   "outputs": [],
   "source": [
    "import os\n",
    "import zipfile\n",
    "\n",
    "local_zip = \"/content/devnagri_numerals_heavy.zip\"\n",
    "zip_ref = zipfile.ZipFile(local_zip, \"r\")\n",
    "zip_ref.extractall(\"/content\")\n",
    "zip_ref.close()"
   ]
  },
  {
   "cell_type": "markdown",
   "metadata": {
    "id": "sDOm8yJyA7rj"
   },
   "source": [
    "### Añadimos la dirección de la BD a Colab\n",
    "\n",
    "En este caso la base de datos esta distruibuida en training y test. Cada carpeta contiene otra subcarpeta en donde se tiene cada una de las clases de la base de datos."
   ]
  },
  {
   "cell_type": "code",
   "execution_count": null,
   "metadata": {
    "id": "3JxUvQZd94tl"
   },
   "outputs": [],
   "source": [
    "import pathlib\n",
    "\n",
    "train_dir = pathlib.Path(\"/content/devnagri_numerals_heavy/Train\")\n",
    "test_dir = pathlib.Path(\"/content/devnagri_numerals_heavy/Test\")"
   ]
  },
  {
   "cell_type": "markdown",
   "metadata": {
    "id": "6bIiO4dtT3WL"
   },
   "source": [
    "Como se comentó en la sección \"*Descripción de caracteres*\" hay un total de 20,000 imagenes repartiendose segun como se muestra acontinuacion"
   ]
  },
  {
   "cell_type": "code",
   "execution_count": null,
   "metadata": {
    "colab": {
     "base_uri": "https://localhost:8080/"
    },
    "executionInfo": {
     "elapsed": 216,
     "status": "ok",
     "timestamp": 1663085135094,
     "user": {
      "displayName": "Osmin Larreynaga",
      "userId": "07609879780988336972"
     },
     "user_tz": 360
    },
    "id": "_ngm3Pvo56Wj",
    "outputId": "937725ba-3e6b-43e6-db47-8136d26fa011"
   },
   "outputs": [
    {
     "name": "stdout",
     "output_type": "stream",
     "text": [
      "Nuestro train dataset tiene en total: 17000 imagenes tipo .png\n",
      "\n",
      "Nuestro test dataset tiene en total: 3000 imagenes tipo .png\n"
     ]
    }
   ],
   "source": [
    "image_count_train = len(list(train_dir.glob('*/*.png')))\n",
    "print(f'Nuestro train dataset tiene en total: {image_count_train} imagenes tipo .png\\n')\n",
    "\n",
    "image_count_test = len(list(test_dir.glob('*/*.png')))\n",
    "print(f'Nuestro test dataset tiene en total: {image_count_test} imagenes tipo .png')"
   ]
  },
  {
   "cell_type": "markdown",
   "metadata": {
    "id": "t2RJA0pUX6gq"
   },
   "source": [
    "Visualizamos la estructura RGB de nuestro dataset, tomando como ejemplo una imagen cualquiera"
   ]
  },
  {
   "cell_type": "code",
   "execution_count": null,
   "metadata": {
    "colab": {
     "base_uri": "https://localhost:8080/",
     "height": 67
    },
    "executionInfo": {
     "elapsed": 336,
     "status": "ok",
     "timestamp": 1663085138987,
     "user": {
      "displayName": "Osmin Larreynaga",
      "userId": "07609879780988336972"
     },
     "user_tz": 360
    },
    "id": "BvfbojwsJYRz",
    "outputId": "d9aaacbb-088e-475e-ba96-cd933ae9fdce"
   },
   "outputs": [
    {
     "name": "stdout",
     "output_type": "stream",
     "text": [
      "Todas las imagenes tiene la siguiente estructura (32, 32, 3) RGB\n"
     ]
    },
    {
     "data": {
      "image/png": "[encoded data removed]",
      "text/plain": [
       "<PIL.PngImagePlugin.PngImageFile image mode=L size=32x32 at 0x7F62A45C4310>"
      ]
     },
     "execution_count": 25,
     "metadata": {},
     "output_type": "execute_result"
    }
   ],
   "source": [
    "import cv2\n",
    "import PIL   \n",
    "\n",
    "image = cv2.imread(\"/content/devnagri_numerals_heavy/Train/digit_0/103265.png\")\n",
    "print(f'Todas las imagenes tiene la siguiente estructura {image.shape} RGB')\n",
    "\n",
    "\n",
    "digit_0 = list(train_dir.glob('digit_0/*'))\n",
    "PIL.Image.open(str(digit_0[0]))\n"
   ]
  },
  {
   "cell_type": "code",
   "execution_count": null,
   "metadata": {
    "colab": {
     "base_uri": "https://localhost:8080/",
     "height": 49
    },
    "executionInfo": {
     "elapsed": 241,
     "status": "ok",
     "timestamp": 1663045455471,
     "user": {
      "displayName": "Osmin Larreynaga",
      "userId": "07609879780988336972"
     },
     "user_tz": 360
    },
    "id": "iIWY15byiS_-",
    "outputId": "0c30191a-6559-40d4-b961-43566e1ef3aa"
   },
   "outputs": [
    {
     "data": {
      "image/png": "[encoded data removed]",
      "text/plain": [
       "<PIL.PngImagePlugin.PngImageFile image mode=L size=32x32 at 0x7FA1B203CB10>"
      ]
     },
     "execution_count": 9,
     "metadata": {},
     "output_type": "execute_result"
    }
   ],
   "source": [
    "digit_1 = list(train_dir.glob('digit_1/*'))\n",
    "PIL.Image.open(str(digit_1[0]))"
   ]
  },
  {
   "cell_type": "code",
   "execution_count": null,
   "metadata": {
    "colab": {
     "base_uri": "https://localhost:8080/",
     "height": 49
    },
    "executionInfo": {
     "elapsed": 226,
     "status": "ok",
     "timestamp": 1663045458163,
     "user": {
      "displayName": "Osmin Larreynaga",
      "userId": "07609879780988336972"
     },
     "user_tz": 360
    },
    "id": "52zdyRKCib-9",
    "outputId": "e7ed0678-9257-4a08-ea7e-7fa83b7dcd27"
   },
   "outputs": [
    {
     "data": {
      "image/png": "[encoded data removed]",
      "text/plain": [
       "<PIL.PngImagePlugin.PngImageFile image mode=L size=32x32 at 0x7FA1C0978F90>"
      ]
     },
     "execution_count": 10,
     "metadata": {},
     "output_type": "execute_result"
    }
   ],
   "source": [
    "digit_2 = list(train_dir.glob('digit_2/*'))\n",
    "PIL.Image.open(str(digit_2[0]))"
   ]
  },
  {
   "cell_type": "code",
   "execution_count": null,
   "metadata": {
    "colab": {
     "base_uri": "https://localhost:8080/",
     "height": 49
    },
    "executionInfo": {
     "elapsed": 406,
     "status": "ok",
     "timestamp": 1663045464223,
     "user": {
      "displayName": "Osmin Larreynaga",
      "userId": "07609879780988336972"
     },
     "user_tz": 360
    },
    "id": "QhGHAWJiifnP",
    "outputId": "4d5c6052-8ad3-45a2-dd8a-fcbc03105a05"
   },
   "outputs": [
    {
     "data": {
      "image/png": "[encoded data removed]",
      "text/plain": [
       "<PIL.PngImagePlugin.PngImageFile image mode=L size=32x32 at 0x7FA1B1D9F750>"
      ]
     },
     "execution_count": 12,
     "metadata": {},
     "output_type": "execute_result"
    }
   ],
   "source": [
    "digit_3 = list(train_dir.glob('digit_3/*'))\n",
    "PIL.Image.open(str(digit_3[0]))"
   ]
  },
  {
   "cell_type": "code",
   "execution_count": null,
   "metadata": {
    "colab": {
     "base_uri": "https://localhost:8080/",
     "height": 49
    },
    "executionInfo": {
     "elapsed": 214,
     "status": "ok",
     "timestamp": 1663045467105,
     "user": {
      "displayName": "Osmin Larreynaga",
      "userId": "07609879780988336972"
     },
     "user_tz": 360
    },
    "id": "aPbf2i7Vijk8",
    "outputId": "d28722e3-aa00-4da4-80f7-02a89ed6b8ab"
   },
   "outputs": [
    {
     "data": {
      "image/png": "[encoded data removed]",
      "text/plain": [
       "<PIL.PngImagePlugin.PngImageFile image mode=L size=32x32 at 0x7FA1B1E11E90>"
      ]
     },
     "execution_count": 13,
     "metadata": {},
     "output_type": "execute_result"
    }
   ],
   "source": [
    "digit_4 = list(train_dir.glob('digit_4/*'))\n",
    "PIL.Image.open(str(digit_4[0]))"
   ]
  },
  {
   "cell_type": "code",
   "execution_count": null,
   "metadata": {
    "colab": {
     "base_uri": "https://localhost:8080/",
     "height": 49
    },
    "executionInfo": {
     "elapsed": 198,
     "status": "ok",
     "timestamp": 1663045468591,
     "user": {
      "displayName": "Osmin Larreynaga",
      "userId": "07609879780988336972"
     },
     "user_tz": 360
    },
    "id": "80Mb3Xw6itUA",
    "outputId": "eaba63f2-f104-4add-b47e-811de3db4872"
   },
   "outputs": [
    {
     "data": {
      "image/png": "[encoded data removed]",
      "text/plain": [
       "<PIL.PngImagePlugin.PngImageFile image mode=L size=32x32 at 0x7FA1B1CA6B50>"
      ]
     },
     "execution_count": 14,
     "metadata": {},
     "output_type": "execute_result"
    }
   ],
   "source": [
    "digit_5 = list(train_dir.glob('digit_5/*'))\n",
    "PIL.Image.open(str(digit_5[0]))"
   ]
  },
  {
   "cell_type": "code",
   "execution_count": null,
   "metadata": {
    "colab": {
     "base_uri": "https://localhost:8080/",
     "height": 49
    },
    "executionInfo": {
     "elapsed": 1781,
     "status": "ok",
     "timestamp": 1663045472016,
     "user": {
      "displayName": "Osmin Larreynaga",
      "userId": "07609879780988336972"
     },
     "user_tz": 360
    },
    "id": "hXOaP1BDi0wC",
    "outputId": "af7377df-e282-4f38-8452-2e8b52bd82b2"
   },
   "outputs": [
    {
     "data": {
      "image/png": "[encoded data removed]",
      "text/plain": [
       "<PIL.PngImagePlugin.PngImageFile image mode=L size=32x32 at 0x7FA1B1E02C90>"
      ]
     },
     "execution_count": 15,
     "metadata": {},
     "output_type": "execute_result"
    }
   ],
   "source": [
    "digit_6 = list(train_dir.glob('digit_6/*'))\n",
    "PIL.Image.open(str(digit_6[0]))"
   ]
  },
  {
   "cell_type": "code",
   "execution_count": null,
   "metadata": {
    "colab": {
     "base_uri": "https://localhost:8080/",
     "height": 49
    },
    "executionInfo": {
     "elapsed": 260,
     "status": "ok",
     "timestamp": 1663045473327,
     "user": {
      "displayName": "Osmin Larreynaga",
      "userId": "07609879780988336972"
     },
     "user_tz": 360
    },
    "id": "X6r3aPYwi5mr",
    "outputId": "775c0b46-7c21-45ba-df9e-cf11df7a2bef"
   },
   "outputs": [
    {
     "data": {
      "image/png": "[encoded data removed]",
      "text/plain": [
       "<PIL.PngImagePlugin.PngImageFile image mode=L size=32x32 at 0x7FA1B1E02AD0>"
      ]
     },
     "execution_count": 16,
     "metadata": {},
     "output_type": "execute_result"
    }
   ],
   "source": [
    "digit_7 = list(train_dir.glob('digit_7/*'))\n",
    "PIL.Image.open(str(digit_7[0]))"
   ]
  },
  {
   "cell_type": "code",
   "execution_count": null,
   "metadata": {
    "colab": {
     "base_uri": "https://localhost:8080/",
     "height": 49
    },
    "executionInfo": {
     "elapsed": 189,
     "status": "ok",
     "timestamp": 1663045474975,
     "user": {
      "displayName": "Osmin Larreynaga",
      "userId": "07609879780988336972"
     },
     "user_tz": 360
    },
    "id": "473RNnKEmIPa",
    "outputId": "1e3768c3-12d8-4470-8601-5593ea1f771d"
   },
   "outputs": [
    {
     "data": {
      "image/png": "[encoded data removed]",
      "text/plain": [
       "<PIL.PngImagePlugin.PngImageFile image mode=L size=32x32 at 0x7FA1B1C98D10>"
      ]
     },
     "execution_count": 17,
     "metadata": {},
     "output_type": "execute_result"
    }
   ],
   "source": [
    "digit_8 = list(train_dir.glob('digit_8/*'))\n",
    "PIL.Image.open(str(digit_8[0]))"
   ]
  },
  {
   "cell_type": "code",
   "execution_count": null,
   "metadata": {
    "colab": {
     "base_uri": "https://localhost:8080/",
     "height": 49
    },
    "executionInfo": {
     "elapsed": 1028,
     "status": "ok",
     "timestamp": 1663045478127,
     "user": {
      "displayName": "Osmin Larreynaga",
      "userId": "07609879780988336972"
     },
     "user_tz": 360
    },
    "id": "c6JnpJ1ZmMkH",
    "outputId": "c986e7f7-b57f-4b21-f3ce-411c4bbf1481"
   },
   "outputs": [
    {
     "data": {
      "image/png": "[encoded data removed]",
      "text/plain": [
       "<PIL.PngImagePlugin.PngImageFile image mode=L size=32x32 at 0x7FA1B1A57950>"
      ]
     },
     "execution_count": 18,
     "metadata": {},
     "output_type": "execute_result"
    }
   ],
   "source": [
    "digit_9 = list(train_dir.glob('digit_9/*'))\n",
    "PIL.Image.open(str(digit_9[0]))"
   ]
  },
  {
   "cell_type": "code",
   "execution_count": null,
   "metadata": {
    "id": "pAplwe2yi-Vh"
   },
   "outputs": [],
   "source": [
    "# for x in range(10):\n",
    "#   directorio_final = 'digit_' + str(x) + '/*'\n",
    "#   print(directorio_final)\n",
    "#   print(type(directorio_final))\n",
    "#   digito_selecionado = list(train_dir.glob(directorio_final))\n",
    "#   print(str(digito_selecionado[0]))\n",
    "#   hola = PIL.Image.open(str(digito_selecionado[0]))\n",
    "#   hola.show\n",
    "#   print(\"\\n\")\n",
    "#   if x == 7:\n",
    "#     break"
   ]
  },
  {
   "cell_type": "markdown",
   "metadata": {
    "id": "A2AxfDxV6jSV"
   },
   "source": [
    "## Configuración de la red \n",
    "\n"
   ]
  },
  {
   "cell_type": "markdown",
   "metadata": {
    "id": "O5DOZCbiMyDr"
   },
   "source": [
    "### Cargamos librerías"
   ]
  },
  {
   "cell_type": "code",
   "execution_count": null,
   "metadata": {
    "id": "l61uBL3t7Xfp"
   },
   "outputs": [],
   "source": [
    "# matplotlib inline Hace que las imagenes sea estáticas\n",
    "%matplotlib inline                 \n",
    "import matplotlib.pyplot as plt   # Generación de gráficos a partir de listas o arrays. \n",
    "import matplotlib.image as mpimg  # Imagnes por lista o arrays  \n",
    "import numpy as np                # Manipulación de vectores, matrix y tensores\n",
    "import tensorflow as tf           # Plataforma de machine learning\n",
    "\n",
    "#Algunas sub-librerias especiales de Tensorflow: \n",
    "from tensorflow import keras\n",
    "from tensorflow.keras import layers\n",
    "from tensorflow.keras.models import Sequential\n",
    "\n"
   ]
  },
  {
   "cell_type": "markdown",
   "metadata": {
    "id": "1QWhLRnJKNWf"
   },
   "source": [
    "Se puede ver que algunas de importaciones dan advertencias, sin embargo, no afectan al código ni al entrenamiento de la red.\n"
   ]
  },
  {
   "cell_type": "markdown",
   "metadata": {
    "id": "kvSgWMfzM0kn"
   },
   "source": [
    "### Dataset de Tensorflow\n",
    "\n",
    "Configuremos [dataset eficientes](https://www.tensorflow.org/api_docs/python/tf/data/Dataset) que leerán imágenes en nuestras carpetas de origen, las convertirán en tensores float32 y las alimentarán (con sus etiquetas) a nuestra red. Tendremos un generador para las imágenes de entrenamiento y otro para las imágenes de validación. Nuestros generadores producirán lotes de imágenes de tamaño 32x32 y sus etiquetas (clases numero hindi)."
   ]
  },
  {
   "cell_type": "markdown",
   "metadata": {
    "id": "E5SN-nxOM5LT"
   },
   "source": [
    "Convertimos la imagen de que posee valores de  ```0 hasta 255``` a ```0 hasta 1```, con el objetivo de normalizar la bd para reducir el computo.\n",
    "\n",
    "\n",
    "No es necesario preprocesar nuestro datos de imagenes a una dimensión menor debido a que nuestros datos ya posee una dimensión adecuada como lo es 32x32 pixeles."
   ]
  },
  {
   "cell_type": "code",
   "execution_count": null,
   "metadata": {
    "id": "f4jPmppgPA9D"
   },
   "outputs": [],
   "source": [
    "batch_size = 128              # Lotes o grupo con los cuales se entrenara la red en cada iteración\n",
    "                              # ajustandose los pesos \n",
    "img_height = 32               # Alto de la imagen de entrada\n",
    "img_width = 32                # Ancho de la imagen de entrada\n",
    "color_mode = \"rgb\"            # Imagenes de un solo canal, ya que asi tenemos nuestras imagenes\n",
    "                              # en escalas grises preprocesandolas\n"
   ]
  },
  {
   "cell_type": "code",
   "execution_count": null,
   "metadata": {
    "colab": {
     "base_uri": "https://localhost:8080/"
    },
    "executionInfo": {
     "elapsed": 1974,
     "status": "ok",
     "timestamp": 1663085157343,
     "user": {
      "displayName": "Osmin Larreynaga",
      "userId": "07609879780988336972"
     },
     "user_tz": 360
    },
    "id": "kMpciwd68kuS",
    "outputId": "68611806-703e-4863-927b-0d4ea70c2424"
   },
   "outputs": [
    {
     "name": "stdout",
     "output_type": "stream",
     "text": [
      "Para Training: \n",
      "Found 17000 files belonging to 10 classes.\n",
      "Using 13600 files for training.\n",
      "\n",
      "Para Validación: \n",
      "Found 17000 files belonging to 10 classes.\n",
      "Using 3400 files for validation.\n",
      "\n",
      "Para TEST:\n",
      "Found 3000 files belonging to 10 classes.\n"
     ]
    }
   ],
   "source": [
    "# Dataset de ENTRENAMIENTO\n",
    "print('Para Training: ')\n",
    "train_ds = tf.keras.utils.image_dataset_from_directory(\n",
    "  train_dir,                #Dirección donde se encuentra dataset train\n",
    "  color_mode = color_mode, \n",
    "  validation_split = 0.2,   #Se toma el 80% para entrenar del DATASET TRAIN\n",
    "  subset = \"training\",      #Etiquetamos como datos de entrenamiento\n",
    "  seed = 123,\n",
    "  image_size = (img_height, img_width), #Indicamos el tamaño de imagen\n",
    "  batch_size = batch_size)\n",
    "\n",
    "# Dataset de VALIDACIÓN\n",
    "print('\\nPara Validación: ')\n",
    "val_ds = tf.keras.utils.image_dataset_from_directory(\n",
    "  train_dir,                #Dirección donde se encuentra dataset train\n",
    "  color_mode = color_mode, \n",
    "  validation_split = 0.2,   #Se toma el 20% para validación del DATASET TRAIN\n",
    "  subset=\"validation\",      #Etiquetamos como datos de validación\n",
    "  seed = 123,\n",
    "  image_size = (img_height, img_width),\n",
    "  batch_size = batch_size)\n",
    "\n",
    "# Dataset de TEST\n",
    "print('\\nPara TEST:')\n",
    "test_ds = tf.keras.utils.image_dataset_from_directory(\n",
    "  test_dir,\n",
    "  color_mode = color_mode, \n",
    "  seed = 123,\n",
    "  image_size = (img_height, img_width),\n",
    "  batch_size = batch_size)"
   ]
  },
  {
   "cell_type": "markdown",
   "metadata": {
    "id": "7BHPdL5pU1uj"
   },
   "source": [
    "Explicando mejor como consiste nuestro dataset, tenemos que nuestro total de datos son **20,000 imagenes**:\n",
    "\n",
    "\n",
    "\n",
    "> **Training** $\\rightarrow 68\\% $ que serian $13,600$. imagenes\n",
    "\n",
    "> **Validación** $\\rightarrow 17\\% $ que serian $3,400$ imagenes\n",
    "\n",
    "> **Testing** $\\rightarrow 15\\% $ que serian $3,000$ imagenes\n",
    "\n",
    "\n"
   ]
  },
  {
   "cell_type": "markdown",
   "metadata": {
    "id": "HLS0wbTI8N3H"
   },
   "source": [
    "Las clases y etiquetas se infieren respecto a la estructura de directorio por lo tanto quedan de la siguiente manera:"
   ]
  },
  {
   "cell_type": "code",
   "execution_count": null,
   "metadata": {
    "colab": {
     "base_uri": "https://localhost:8080/"
    },
    "executionInfo": {
     "elapsed": 250,
     "status": "ok",
     "timestamp": 1663085160576,
     "user": {
      "displayName": "Osmin Larreynaga",
      "userId": "07609879780988336972"
     },
     "user_tz": 360
    },
    "id": "pU6zNPsUB2ni",
    "outputId": "f02f62ba-8d7b-4cc2-e3e5-a3bf220d0a0b"
   },
   "outputs": [
    {
     "name": "stdout",
     "output_type": "stream",
     "text": [
      "digit_0\n",
      "digit_1\n",
      "digit_2\n",
      "digit_3\n",
      "digit_4\n",
      "digit_5\n",
      "digit_6\n",
      "digit_7\n",
      "digit_8\n",
      "digit_9\n"
     ]
    }
   ],
   "source": [
    "class_names = train_ds.class_names\n",
    "for name in class_names:\n",
    "  print(name)"
   ]
  },
  {
   "cell_type": "markdown",
   "metadata": {
    "id": "xPbGKZ4qM5i7"
   },
   "source": [
    "Se cargan los datos a la cache para no usar el disco duro y asi poder entrenar la red de forma más optima y con menores tiempos"
   ]
  },
  {
   "cell_type": "code",
   "execution_count": null,
   "metadata": {
    "id": "qgWzX_TGFlQz"
   },
   "outputs": [],
   "source": [
    "AUTOTUNE = tf.data.AUTOTUNE\n",
    "\n",
    "train_ds = train_ds.cache().prefetch(buffer_size=AUTOTUNE)\n",
    "val_ds = val_ds.cache().prefetch(buffer_size=AUTOTUNE)\n",
    "test_ds = val_ds.cache().prefetch(buffer_size=AUTOTUNE)"
   ]
  },
  {
   "cell_type": "markdown",
   "metadata": {
    "id": "PIyMHoJfNDPl"
   },
   "source": [
    "### Diseño de los modelos"
   ]
  },
  {
   "cell_type": "markdown",
   "metadata": {
    "id": "iYGONyXOQu70"
   },
   "source": [
    "Hacemos una función la cual nos va a permitir graficar los resultados de nuestra red neuronal después de su entrenamiento."
   ]
  },
  {
   "cell_type": "code",
   "execution_count": null,
   "metadata": {
    "id": "ChV4aHTsGtwt"
   },
   "outputs": [],
   "source": [
    "def visualizacion_resultados(history, epochs):\n",
    "  epochs = [i for i in range(epochs)]\n",
    "  fig, ax = plt.subplots(1,2)\n",
    "  train_acc = history.history[\"accuracy\"]\n",
    "  train_loss = history.history[\"loss\"]\n",
    "  val_acc = history.history[\"val_accuracy\"]\n",
    "  val_loss = history.history[\"val_loss\"]\n",
    "  fig.set_size_inches(16, 9)\n",
    "\n",
    "  ax[0].plot(epochs, train_acc, \"go-\", label =\" Entrenamiento accuracy\")\n",
    "  ax[0].plot(epochs, val_acc, \"ro-\", label= \"Validacion accuracy\")\n",
    "  ax[0].set_title(\"Entrenamiento & validación accuracy\")\n",
    "  ax[0].legend()\n",
    "  ax[0].set_xlabel(\"Epochs\")\n",
    "  ax[0].set_ylabel(\"Accuracy\")\n",
    "\n",
    "  ax[1].plot(epochs, train_loss, \"go-\", label =\" Entrenamiento Loss\")\n",
    "  ax[1].plot(epochs, val_loss, \"ro-\", label= \"Validacion Loss\")\n",
    "  ax[1].set_title(\"Entrenamiento & validación Loss\")\n",
    "  ax[1].legend()\n",
    "  ax[1].set_xlabel(\"Epochs\")\n",
    "  ax[1].set_ylabel(\"Loss\")\n",
    "\n",
    "  plt.show()\n"
   ]
  },
  {
   "cell_type": "markdown",
   "metadata": {
    "id": "OY2FB-c0NGlj"
   },
   "source": [
    "**Creación de las redes neuronales de prueba**"
   ]
  },
  {
   "cell_type": "markdown",
   "metadata": {
    "id": "KWLhXD4uLL_k"
   },
   "source": [
    "#### Prueba 1\n",
    "Usaremos la siguiente configuración de entrada para ver como funciona nuestra red:\n",
    "\n",
    "**Capa de Entrada:** [3072]\n",
    "\n",
    "**Capas Ocultas:** [256:128:64] [Todas linear]\n",
    "\n",
    "**Capa de Salida:** [10]\n",
    "\n"
   ]
  },
  {
   "cell_type": "code",
   "execution_count": null,
   "metadata": {
    "colab": {
     "base_uri": "https://localhost:8080/"
    },
    "executionInfo": {
     "elapsed": 363,
     "status": "ok",
     "timestamp": 1663085930713,
     "user": {
      "displayName": "Osmin Larreynaga",
      "userId": "07609879780988336972"
     },
     "user_tz": 360
    },
    "id": "9GIPcu06F2Oi",
    "outputId": "ab767bcf-f0f3-448d-cedc-4e6047fd735f"
   },
   "outputs": [
    {
     "name": "stdout",
     "output_type": "stream",
     "text": [
      "Nuestra salida de la modelo son: 10\n",
      "\n",
      "\n",
      "Model: \"Red_Neuronal_1\"\n",
      "_________________________________________________________________\n",
      " Layer (type)                Output Shape              Param #   \n",
      "=================================================================\n",
      " Prepro_Imags (Rescaling)    (None, 32, 32, 3)         0         \n",
      "                                                                 \n",
      " Entrada (Flatten)           (None, 3072)              0         \n",
      "                                                                 \n",
      " Capa_oculta_1 (Dense)       (None, 256)               786688    \n",
      "                                                                 \n",
      " Capa_oculta_2 (Dense)       (None, 128)               32896     \n",
      "                                                                 \n",
      " Capa_oculta_3 (Dense)       (None, 64)                8256      \n",
      "                                                                 \n",
      " Salida (Dense)              (None, 10)                650       \n",
      "                                                                 \n",
      "=================================================================\n",
      "Total params: 828,490\n",
      "Trainable params: 828,490\n",
      "Non-trainable params: 0\n",
      "_________________________________________________________________\n"
     ]
    }
   ],
   "source": [
    "num_classes = len(class_names)\n",
    "print(f'Nuestra salida de la modelo son: {num_classes}\\n\\n')\n",
    "\n",
    "model_base_1 = Sequential([\n",
    "    # Convertimos la imagen de 0, 255 a 0 hasta 1\n",
    "    layers.Rescaling(1./255, input_shape=(img_height, img_width, 3), name='Prepro_Imags'),\n",
    "    # Aplana los (32, 32, 3) a 3072, haciendolo un vector columna\n",
    "    layers.Flatten(name='Entrada'),\n",
    "    # Primera capa oculta\n",
    "    layers.Dense(256, activation='linear', name='Capa_oculta_1'),\n",
    "    # Segunda capa oculta \n",
    "    layers.Dense(128, activation='linear', name='Capa_oculta_2'),\n",
    "    #Tercer capa oculta\n",
    "    layers.Dense(64, activation='linear', name='Capa_oculta_3'),\n",
    "    # Salida red neuronal\n",
    "    layers.Dense(num_classes, name='Salida')\n",
    "\n",
    "], name=\"Red_Neuronal_1\")\n",
    "\n",
    "\n",
    "model_base_1.summary()\n"
   ]
  },
  {
   "cell_type": "code",
   "execution_count": null,
   "metadata": {
    "colab": {
     "base_uri": "https://localhost:8080/"
    },
    "executionInfo": {
     "elapsed": 16813,
     "status": "ok",
     "timestamp": 1663047866076,
     "user": {
      "displayName": "Osmin Larreynaga",
      "userId": "07609879780988336972"
     },
     "user_tz": 360
    },
    "id": "N8X9hJ4nGWRt",
    "outputId": "f6e18648-423f-4628-abdf-e20abab3f29b"
   },
   "outputs": [
    {
     "name": "stdout",
     "output_type": "stream",
     "text": [
      "Epoch 1/20\n",
      "107/107 [==============================] - 7s 48ms/step - loss: 0.4414 - accuracy: 0.8750 - val_loss: 0.2379 - val_accuracy: 0.9250\n",
      "Epoch 2/20\n",
      "107/107 [==============================] - 0s 4ms/step - loss: 0.2088 - accuracy: 0.9340 - val_loss: 0.2474 - val_accuracy: 0.9265\n",
      "Epoch 3/20\n",
      "107/107 [==============================] - 0s 4ms/step - loss: 0.1886 - accuracy: 0.9398 - val_loss: 0.2624 - val_accuracy: 0.9288\n",
      "Epoch 4/20\n",
      "107/107 [==============================] - 0s 4ms/step - loss: 0.1877 - accuracy: 0.9415 - val_loss: 0.2290 - val_accuracy: 0.9362\n",
      "Epoch 5/20\n",
      "107/107 [==============================] - 0s 4ms/step - loss: 0.1863 - accuracy: 0.9438 - val_loss: 0.2245 - val_accuracy: 0.9400\n",
      "Epoch 6/20\n",
      "107/107 [==============================] - 0s 4ms/step - loss: 0.1777 - accuracy: 0.9444 - val_loss: 0.2436 - val_accuracy: 0.9374\n",
      "Epoch 7/20\n",
      "107/107 [==============================] - 0s 4ms/step - loss: 0.1675 - accuracy: 0.9487 - val_loss: 0.2311 - val_accuracy: 0.9379\n",
      "Epoch 8/20\n",
      "107/107 [==============================] - 0s 4ms/step - loss: 0.1583 - accuracy: 0.9521 - val_loss: 0.2477 - val_accuracy: 0.9335\n",
      "Epoch 9/20\n",
      "107/107 [==============================] - 0s 4ms/step - loss: 0.1533 - accuracy: 0.9540 - val_loss: 0.2400 - val_accuracy: 0.9359\n",
      "Epoch 10/20\n",
      "107/107 [==============================] - 0s 4ms/step - loss: 0.1486 - accuracy: 0.9554 - val_loss: 0.2557 - val_accuracy: 0.9359\n",
      "Epoch 11/20\n",
      "107/107 [==============================] - 0s 5ms/step - loss: 0.1521 - accuracy: 0.9538 - val_loss: 0.2924 - val_accuracy: 0.9309\n",
      "Epoch 12/20\n",
      "107/107 [==============================] - 0s 4ms/step - loss: 0.1506 - accuracy: 0.9560 - val_loss: 0.2715 - val_accuracy: 0.9359\n",
      "Epoch 13/20\n",
      "107/107 [==============================] - 0s 4ms/step - loss: 0.1360 - accuracy: 0.9588 - val_loss: 0.2558 - val_accuracy: 0.9365\n",
      "Epoch 14/20\n",
      "107/107 [==============================] - 0s 4ms/step - loss: 0.1308 - accuracy: 0.9588 - val_loss: 0.2885 - val_accuracy: 0.9279\n",
      "Epoch 15/20\n",
      "107/107 [==============================] - 0s 4ms/step - loss: 0.1272 - accuracy: 0.9606 - val_loss: 0.2777 - val_accuracy: 0.9341\n",
      "Epoch 16/20\n",
      "107/107 [==============================] - 0s 4ms/step - loss: 0.1319 - accuracy: 0.9606 - val_loss: 0.2897 - val_accuracy: 0.9335\n",
      "Epoch 17/20\n",
      "107/107 [==============================] - 0s 4ms/step - loss: 0.1242 - accuracy: 0.9611 - val_loss: 0.2746 - val_accuracy: 0.9365\n",
      "Epoch 18/20\n",
      "107/107 [==============================] - 0s 4ms/step - loss: 0.1293 - accuracy: 0.9610 - val_loss: 0.2794 - val_accuracy: 0.9356\n",
      "Epoch 19/20\n",
      "107/107 [==============================] - 0s 4ms/step - loss: 0.1195 - accuracy: 0.9621 - val_loss: 0.2763 - val_accuracy: 0.9362\n",
      "Epoch 20/20\n",
      "107/107 [==============================] - 0s 4ms/step - loss: 0.1138 - accuracy: 0.9648 - val_loss: 0.2791 - val_accuracy: 0.9347\n"
     ]
    }
   ],
   "source": [
    "model_base_1.compile(\n",
    "  optimizer=tf.keras.optimizers.Adam(),\n",
    "  loss=tf.keras.losses.SparseCategoricalCrossentropy(from_logits=True),\n",
    "  # El \"from_logits = True\" hace que nuestra salida sea\n",
    "  # una funcion de logit como la funcion softmax\n",
    "  metrics=[\"accuracy\"])\n",
    "\n",
    "\n",
    "epochs = 20\n",
    "history = model_base_1.fit(train_ds,\n",
    "  validation_data = val_ds,\n",
    "  epochs=epochs\n",
    ")\n",
    "\n"
   ]
  },
  {
   "cell_type": "markdown",
   "metadata": {
    "id": "ZnugBpWWwNR8"
   },
   "source": [
    "**Como nuestro batch_size = 128  eso significa generara  107 lotes de imagenes de trainig con las cuales irá haciendo ajustes de los pesos en cada iteración.**\n",
    "\n",
    "**La justificación de este calculo es que** $\\frac{13,600}{128} = 106.25 \\approx 107$ "
   ]
  },
  {
   "cell_type": "markdown",
   "metadata": {
    "id": "PfdhE97hMAwk"
   },
   "source": [
    "**Testeamos el modelo**\n",
    "\n",
    "Con el objeto creado tf.data.Dataset en *test_ds* evaluamos nuestro modelo para ver que tan bien funciona generalizando nuestro modelo y tenemos un 93.47 de precisión con pocas perdidas."
   ]
  },
  {
   "cell_type": "code",
   "execution_count": null,
   "metadata": {
    "colab": {
     "base_uri": "https://localhost:8080/"
    },
    "executionInfo": {
     "elapsed": 298,
     "status": "ok",
     "timestamp": 1663047909983,
     "user": {
      "displayName": "Osmin Larreynaga",
      "userId": "07609879780988336972"
     },
     "user_tz": 360
    },
    "id": "bVfFz9y1MRv4",
    "outputId": "538f33ac-88d9-42dc-f1f1-5378c86acb73"
   },
   "outputs": [
    {
     "name": "stdout",
     "output_type": "stream",
     "text": [
      "27/27 [==============================] - 0s 3ms/step - loss: 0.2791 - accuracy: 0.9347\n"
     ]
    }
   ],
   "source": [
    "results =  model_base_1.evaluate(test_ds)"
   ]
  },
  {
   "cell_type": "markdown",
   "metadata": {
    "id": "vIo7InkqRe7K"
   },
   "source": [
    "**Visualizamos resultados**\n",
    "\n",
    "En base a la función creada solo le pasamos como parametro al modelo ya entrenado."
   ]
  },
  {
   "cell_type": "code",
   "execution_count": null,
   "metadata": {
    "colab": {
     "base_uri": "https://localhost:8080/",
     "height": 567
    },
    "executionInfo": {
     "elapsed": 610,
     "status": "ok",
     "timestamp": 1663047919577,
     "user": {
      "displayName": "Osmin Larreynaga",
      "userId": "07609879780988336972"
     },
     "user_tz": 360
    },
    "id": "kawj9jA5NAva",
    "outputId": "fce96232-9d3c-4af6-fb69-7bc9b8898c4f"
   },
   "outputs": [
    {
     "data": {
      "image/png": "[encoded data removed]",
      "text/plain": [
       "<Figure size 1152x648 with 2 Axes>"
      ]
     },
     "metadata": {
      "needs_background": "light"
     },
     "output_type": "display_data"
    }
   ],
   "source": [
    "visualizacion_resultados(history, epochs)"
   ]
  },
  {
   "cell_type": "code",
   "execution_count": null,
   "metadata": {
    "id": "0w7rvwux34Sr"
   },
   "outputs": [],
   "source": [
    "#Guardamos nuestro modelo y lo descargamos\n",
    "model_base_1.save(\"prueba_1.h5\")"
   ]
  },
  {
   "cell_type": "markdown",
   "metadata": {
    "id": "eQNfyRBO0mJH"
   },
   "source": [
    "Los datos de entranamiento en el Accuracy se ve que forman una curva bastante elevada y rapida, en la validación se ve una grafica diferente y más lejana. **Es muy probable que nuestro modelo este teniendo overfitting**, llegando a memorizar los datos de entrenamiento y por eso nuestraos datos de validación difieren un poco.\n",
    "\n",
    "Cambiaremos la estructura de nuestra red para ver otros resultados, y ver si **generaliza mejor nuestra red**."
   ]
  },
  {
   "cell_type": "markdown",
   "metadata": {
    "id": "NYdfjPC82v5K"
   },
   "source": [
    "#### Prueba 2\n",
    "Cambiaremso a una función de activación más acorde a las multipes clases que tenemos que clasificar para ver su resultados, **usaremos RELU, y configuramos arquitectura similarmente las capas y neuronas**:\n",
    "\n",
    "**Capa de Entrada:** [3072]\n",
    "\n",
    "**Capas Ocultas:** [256:128:64] [Todas Relu]\n",
    "\n",
    "**Capa de Salida:** [10]"
   ]
  },
  {
   "cell_type": "code",
   "execution_count": null,
   "metadata": {
    "colab": {
     "base_uri": "https://localhost:8080/"
    },
    "executionInfo": {
     "elapsed": 222,
     "status": "ok",
     "timestamp": 1663051110723,
     "user": {
      "displayName": "Osmin Larreynaga",
      "userId": "07609879780988336972"
     },
     "user_tz": 360
    },
    "id": "qdN-WAVb20qB",
    "outputId": "305f4641-b0d4-46bb-8f3b-a5b8b84e5e2d"
   },
   "outputs": [
    {
     "name": "stdout",
     "output_type": "stream",
     "text": [
      "Model: \"Red_Neuronal_2\"\n",
      "_________________________________________________________________\n",
      " Layer (type)                Output Shape              Param #   \n",
      "=================================================================\n",
      " Prepro_Imags (Rescaling)    (None, 32, 32, 3)         0         \n",
      "                                                                 \n",
      " Entrada (Flatten)           (None, 3072)              0         \n",
      "                                                                 \n",
      " Capa_oculta_1 (Dense)       (None, 256)               786688    \n",
      "                                                                 \n",
      " Capa_oculta_2 (Dense)       (None, 128)               32896     \n",
      "                                                                 \n",
      " Capa_oculta_3 (Dense)       (None, 64)                8256      \n",
      "                                                                 \n",
      " Salida (Dense)              (None, 10)                650       \n",
      "                                                                 \n",
      "=================================================================\n",
      "Total params: 828,490\n",
      "Trainable params: 828,490\n",
      "Non-trainable params: 0\n",
      "_________________________________________________________________\n"
     ]
    }
   ],
   "source": [
    "model_base_2 = Sequential([\n",
    "    # Convertimos la imagen de 0, 255 a 0 hasta 1\n",
    "    layers.Rescaling(1./255, input_shape=(img_height, img_width, 3), name='Prepro_Imags'),\n",
    "    # Aplana los (32, 32, 3) a 3072, haciendolo un vector columna\n",
    "    layers.Flatten(name='Entrada'),\n",
    "    # Primera capa oculta\n",
    "    layers.Dense(256, activation='relu', name='Capa_oculta_1'),\n",
    "    # Segunda capa oculta \n",
    "    layers.Dense(128, activation='relu', name='Capa_oculta_2'),\n",
    "    #Tercer capa oculta\n",
    "    layers.Dense(64, activation='relu', name='Capa_oculta_3'),\n",
    "    # Salida red neuronal\n",
    "    layers.Dense(num_classes, name='Salida')\n",
    "\n",
    "], name=\"Red_Neuronal_2\")\n",
    "\n",
    "\n",
    "model_base_2.summary()\n"
   ]
  },
  {
   "cell_type": "code",
   "execution_count": null,
   "metadata": {
    "colab": {
     "base_uri": "https://localhost:8080/"
    },
    "executionInfo": {
     "elapsed": 11131,
     "status": "ok",
     "timestamp": 1663049242538,
     "user": {
      "displayName": "Osmin Larreynaga",
      "userId": "07609879780988336972"
     },
     "user_tz": 360
    },
    "id": "f14ITXrp20qC",
    "outputId": "36e6bab6-55ce-4209-dc44-c3a0c204cb88"
   },
   "outputs": [
    {
     "name": "stdout",
     "output_type": "stream",
     "text": [
      "Epoch 1/20\n",
      "107/107 [==============================] - 1s 9ms/step - loss: 0.4009 - accuracy: 0.8815 - val_loss: 0.2838 - val_accuracy: 0.9071\n",
      "Epoch 2/20\n",
      "107/107 [==============================] - 1s 5ms/step - loss: 0.2178 - accuracy: 0.9321 - val_loss: 0.2469 - val_accuracy: 0.9265\n",
      "Epoch 3/20\n",
      "107/107 [==============================] - 0s 4ms/step - loss: 0.1920 - accuracy: 0.9408 - val_loss: 0.2408 - val_accuracy: 0.9315\n",
      "Epoch 4/20\n",
      "107/107 [==============================] - 0s 4ms/step - loss: 0.1823 - accuracy: 0.9446 - val_loss: 0.2687 - val_accuracy: 0.9291\n",
      "Epoch 5/20\n",
      "107/107 [==============================] - 0s 4ms/step - loss: 0.1797 - accuracy: 0.9437 - val_loss: 0.2442 - val_accuracy: 0.9359\n",
      "Epoch 6/20\n",
      "107/107 [==============================] - 0s 4ms/step - loss: 0.1817 - accuracy: 0.9448 - val_loss: 0.2707 - val_accuracy: 0.9335\n",
      "Epoch 7/20\n",
      "107/107 [==============================] - 0s 4ms/step - loss: 0.1779 - accuracy: 0.9471 - val_loss: 0.2775 - val_accuracy: 0.9344\n",
      "Epoch 8/20\n",
      "107/107 [==============================] - 0s 4ms/step - loss: 0.1812 - accuracy: 0.9452 - val_loss: 0.2422 - val_accuracy: 0.9382\n",
      "Epoch 9/20\n",
      "107/107 [==============================] - 0s 4ms/step - loss: 0.1546 - accuracy: 0.9523 - val_loss: 0.2535 - val_accuracy: 0.9362\n",
      "Epoch 10/20\n",
      "107/107 [==============================] - 0s 4ms/step - loss: 0.1443 - accuracy: 0.9566 - val_loss: 0.2414 - val_accuracy: 0.9418\n",
      "Epoch 11/20\n",
      "107/107 [==============================] - 0s 4ms/step - loss: 0.1396 - accuracy: 0.9558 - val_loss: 0.2375 - val_accuracy: 0.9400\n",
      "Epoch 12/20\n",
      "107/107 [==============================] - 0s 4ms/step - loss: 0.1394 - accuracy: 0.9574 - val_loss: 0.2564 - val_accuracy: 0.9374\n",
      "Epoch 13/20\n",
      "107/107 [==============================] - 0s 4ms/step - loss: 0.1348 - accuracy: 0.9589 - val_loss: 0.2499 - val_accuracy: 0.9394\n",
      "Epoch 14/20\n",
      "107/107 [==============================] - 1s 5ms/step - loss: 0.1264 - accuracy: 0.9610 - val_loss: 0.2562 - val_accuracy: 0.9397\n",
      "Epoch 15/20\n",
      "107/107 [==============================] - 1s 5ms/step - loss: 0.1230 - accuracy: 0.9621 - val_loss: 0.2611 - val_accuracy: 0.9400\n",
      "Epoch 16/20\n",
      "107/107 [==============================] - 1s 5ms/step - loss: 0.1221 - accuracy: 0.9624 - val_loss: 0.2577 - val_accuracy: 0.9400\n",
      "Epoch 17/20\n",
      "107/107 [==============================] - 1s 5ms/step - loss: 0.1326 - accuracy: 0.9579 - val_loss: 0.2920 - val_accuracy: 0.9341\n",
      "Epoch 18/20\n",
      "107/107 [==============================] - 1s 5ms/step - loss: 0.1316 - accuracy: 0.9585 - val_loss: 0.2877 - val_accuracy: 0.9391\n",
      "Epoch 19/20\n",
      "107/107 [==============================] - 1s 5ms/step - loss: 0.1317 - accuracy: 0.9600 - val_loss: 0.3035 - val_accuracy: 0.9356\n",
      "Epoch 20/20\n",
      "107/107 [==============================] - 1s 6ms/step - loss: 0.1271 - accuracy: 0.9595 - val_loss: 0.3184 - val_accuracy: 0.9318\n"
     ]
    }
   ],
   "source": [
    "model_base_2.compile(\n",
    "  optimizer=tf.keras.optimizers.Adam(),\n",
    "  loss=tf.keras.losses.SparseCategoricalCrossentropy(from_logits=True),\n",
    "  # El \"from_logits = True\" hace que nuestra salida sea\n",
    "  # una funcion de logit como la funcion softmax\n",
    "  metrics=[\"accuracy\"])\n",
    "\n",
    "\n",
    "epochs = 20\n",
    "history_base_2 = model_base_2.fit(train_ds,\n",
    "  validation_data = val_ds,\n",
    "  epochs=epochs\n",
    ")\n",
    "\n"
   ]
  },
  {
   "cell_type": "markdown",
   "metadata": {
    "id": "vQn4BAGB4AOY"
   },
   "source": [
    "**Testeamos el modelo**"
   ]
  },
  {
   "cell_type": "code",
   "execution_count": null,
   "metadata": {
    "colab": {
     "base_uri": "https://localhost:8080/"
    },
    "executionInfo": {
     "elapsed": 172,
     "status": "ok",
     "timestamp": 1663049245315,
     "user": {
      "displayName": "Osmin Larreynaga",
      "userId": "07609879780988336972"
     },
     "user_tz": 360
    },
    "id": "Q4gE5AnP4AOZ",
    "outputId": "05d55e2b-e75c-4e72-bdf3-230af257c79c"
   },
   "outputs": [
    {
     "name": "stdout",
     "output_type": "stream",
     "text": [
      "27/27 [==============================] - 0s 3ms/step - loss: 0.3184 - accuracy: 0.9318\n"
     ]
    }
   ],
   "source": [
    "results = model_base_2.evaluate(test_ds)"
   ]
  },
  {
   "cell_type": "markdown",
   "metadata": {
    "id": "vF4Wqzt44AOa"
   },
   "source": [
    "**Visualizamos resultados**"
   ]
  },
  {
   "cell_type": "code",
   "execution_count": null,
   "metadata": {
    "colab": {
     "base_uri": "https://localhost:8080/",
     "height": 567
    },
    "executionInfo": {
     "elapsed": 780,
     "status": "ok",
     "timestamp": 1663049308606,
     "user": {
      "displayName": "Osmin Larreynaga",
      "userId": "07609879780988336972"
     },
     "user_tz": 360
    },
    "id": "CvNHdZrk4AOa",
    "outputId": "b5400d18-a90c-469b-fa6e-1f7e5026138d"
   },
   "outputs": [
    {
     "data": {
      "image/png": "[encoded data removed]",
      "text/plain": [
       "<Figure size 1152x648 with 2 Axes>"
      ]
     },
     "metadata": {
      "needs_background": "light"
     },
     "output_type": "display_data"
    }
   ],
   "source": [
    "visualizacion_resultados(history_base_2, epochs)"
   ]
  },
  {
   "cell_type": "markdown",
   "metadata": {
    "id": "4b5uiMv24AOb"
   },
   "source": [
    "**Está claro que es un caso de overfitting, donde nuestro modelo funciona muy bien en entrenamiento pero no es capaz de generalizar correctamente.**\n",
    "\n",
    "**Tensoflow ofrece una herramienta llamada dropout la cual permite desactivar neuronas para evitar el overfiting**\n"
   ]
  },
  {
   "cell_type": "code",
   "execution_count": null,
   "metadata": {
    "id": "yfgiWxJ9d4oE"
   },
   "outputs": [],
   "source": [
    "#Guardamos nuestro modelo y lo descargamos\n",
    "model_base_2.save(\"prueba_2.h5\")"
   ]
  },
  {
   "cell_type": "markdown",
   "metadata": {
    "id": "zwTuU8cd62wJ"
   },
   "source": [
    "#### Prueba 3\n",
    "Misma arquitectura con misma funcion de activación **añandiendo dropout**:\n",
    "\n",
    "**Capa de Entrada:** [3072]\n",
    "\n",
    "**Capas Ocultas:** [256:128:64] [all relu]\n",
    "\n",
    "**Capa de Salida:** [10]"
   ]
  },
  {
   "cell_type": "code",
   "execution_count": null,
   "metadata": {
    "colab": {
     "base_uri": "https://localhost:8080/"
    },
    "executionInfo": {
     "elapsed": 189,
     "status": "ok",
     "timestamp": 1663051950409,
     "user": {
      "displayName": "Osmin Larreynaga",
      "userId": "07609879780988336972"
     },
     "user_tz": 360
    },
    "id": "z1Hrw5Xw62wJ",
    "outputId": "42fdddba-365d-46e3-89bf-aa15930ea4a2"
   },
   "outputs": [
    {
     "name": "stdout",
     "output_type": "stream",
     "text": [
      "Model: \"Red_Neuronal_3\"\n",
      "_________________________________________________________________\n",
      " Layer (type)                Output Shape              Param #   \n",
      "=================================================================\n",
      " Prepro_Imags (Rescaling)    (None, 32, 32, 3)         0         \n",
      "                                                                 \n",
      " Entrada (Flatten)           (None, 3072)              0         \n",
      "                                                                 \n",
      " Capa_oculta_1 (Dense)       (None, 256)               786688    \n",
      "                                                                 \n",
      " dropout_12 (Dropout)        (None, 256)               0         \n",
      "                                                                 \n",
      " Capa_oculta_2 (Dense)       (None, 128)               32896     \n",
      "                                                                 \n",
      " dropout_13 (Dropout)        (None, 128)               0         \n",
      "                                                                 \n",
      " Capa_oculta_3 (Dense)       (None, 64)                8256      \n",
      "                                                                 \n",
      " dropout_14 (Dropout)        (None, 64)                0         \n",
      "                                                                 \n",
      " Salida (Dense)              (None, 10)                650       \n",
      "                                                                 \n",
      "=================================================================\n",
      "Total params: 828,490\n",
      "Trainable params: 828,490\n",
      "Non-trainable params: 0\n",
      "_________________________________________________________________\n"
     ]
    }
   ],
   "source": [
    "model_base_3 = Sequential([\n",
    "    # Convertimos la imagen de 0, 255 a 0 hasta 1\n",
    "    layers.Rescaling(1./255, input_shape=(img_height, img_width, 3), name='Prepro_Imags'),\n",
    "    # Aplana los (32, 32, 3) a 3072, haciendolo un vector columna\n",
    "    layers.Flatten(name='Entrada'),\n",
    "    # Primera capa oculta\n",
    "    layers.Dense(256, activation='relu', name='Capa_oculta_1'),\n",
    "    layers.Dropout(0.2),\n",
    "    # Segunda capa oculta \n",
    "    layers.Dense(128, activation='relu', name='Capa_oculta_2'),\n",
    "    layers.Dropout(0.2),\n",
    "    #Tercer capa oculta\n",
    "    layers.Dense(64, activation='relu', name='Capa_oculta_3'),\n",
    "    layers.Dropout(0.2),\n",
    "    # Salida red neuronal\n",
    "    layers.Dense(num_classes, name='Salida')\n",
    "\n",
    "], name=\"Red_Neuronal_3\")\n",
    "\n",
    "\n",
    "model_base_3.summary()\n"
   ]
  },
  {
   "cell_type": "code",
   "execution_count": null,
   "metadata": {
    "colab": {
     "base_uri": "https://localhost:8080/"
    },
    "executionInfo": {
     "elapsed": 10001,
     "status": "ok",
     "timestamp": 1663051963695,
     "user": {
      "displayName": "Osmin Larreynaga",
      "userId": "07609879780988336972"
     },
     "user_tz": 360
    },
    "id": "kVKH_pSj62wK",
    "outputId": "2eeb0f99-0f8e-4430-d613-d6d127b4f5c0"
   },
   "outputs": [
    {
     "name": "stdout",
     "output_type": "stream",
     "text": [
      "Epoch 1/20\n",
      "107/107 [==============================] - 1s 5ms/step - loss: 0.5692 - accuracy: 0.8137 - val_loss: 0.1555 - val_accuracy: 0.9556\n",
      "Epoch 2/20\n",
      "107/107 [==============================] - 0s 4ms/step - loss: 0.1871 - accuracy: 0.9438 - val_loss: 0.1030 - val_accuracy: 0.9697\n",
      "Epoch 3/20\n",
      "107/107 [==============================] - 0s 4ms/step - loss: 0.1245 - accuracy: 0.9639 - val_loss: 0.0750 - val_accuracy: 0.9771\n",
      "Epoch 4/20\n",
      "107/107 [==============================] - 0s 4ms/step - loss: 0.0901 - accuracy: 0.9725 - val_loss: 0.0758 - val_accuracy: 0.9735\n",
      "Epoch 5/20\n",
      "107/107 [==============================] - 0s 4ms/step - loss: 0.0763 - accuracy: 0.9771 - val_loss: 0.0691 - val_accuracy: 0.9818\n",
      "Epoch 6/20\n",
      "107/107 [==============================] - 0s 4ms/step - loss: 0.0587 - accuracy: 0.9816 - val_loss: 0.0878 - val_accuracy: 0.9771\n",
      "Epoch 7/20\n",
      "107/107 [==============================] - 0s 4ms/step - loss: 0.0554 - accuracy: 0.9816 - val_loss: 0.0690 - val_accuracy: 0.9806\n",
      "Epoch 8/20\n",
      "107/107 [==============================] - 0s 4ms/step - loss: 0.0456 - accuracy: 0.9863 - val_loss: 0.0599 - val_accuracy: 0.9835\n",
      "Epoch 9/20\n",
      "107/107 [==============================] - 0s 4ms/step - loss: 0.0373 - accuracy: 0.9890 - val_loss: 0.0740 - val_accuracy: 0.9782\n",
      "Epoch 10/20\n",
      "107/107 [==============================] - 0s 4ms/step - loss: 0.0426 - accuracy: 0.9878 - val_loss: 0.0678 - val_accuracy: 0.9847\n",
      "Epoch 11/20\n",
      "107/107 [==============================] - 0s 4ms/step - loss: 0.0374 - accuracy: 0.9885 - val_loss: 0.0660 - val_accuracy: 0.9835\n",
      "Epoch 12/20\n",
      "107/107 [==============================] - 0s 4ms/step - loss: 0.0367 - accuracy: 0.9876 - val_loss: 0.0589 - val_accuracy: 0.9856\n",
      "Epoch 13/20\n",
      "107/107 [==============================] - 0s 4ms/step - loss: 0.0398 - accuracy: 0.9872 - val_loss: 0.0639 - val_accuracy: 0.9826\n",
      "Epoch 14/20\n",
      "107/107 [==============================] - 0s 4ms/step - loss: 0.0291 - accuracy: 0.9913 - val_loss: 0.0555 - val_accuracy: 0.9821\n",
      "Epoch 15/20\n",
      "107/107 [==============================] - 0s 4ms/step - loss: 0.0308 - accuracy: 0.9895 - val_loss: 0.0632 - val_accuracy: 0.9844\n",
      "Epoch 16/20\n",
      "107/107 [==============================] - 0s 4ms/step - loss: 0.0292 - accuracy: 0.9910 - val_loss: 0.0580 - val_accuracy: 0.9856\n",
      "Epoch 17/20\n",
      "107/107 [==============================] - 0s 4ms/step - loss: 0.0258 - accuracy: 0.9921 - val_loss: 0.0613 - val_accuracy: 0.9835\n",
      "Epoch 18/20\n",
      "107/107 [==============================] - 0s 4ms/step - loss: 0.0184 - accuracy: 0.9945 - val_loss: 0.0519 - val_accuracy: 0.9879\n",
      "Epoch 19/20\n",
      "107/107 [==============================] - 0s 4ms/step - loss: 0.0173 - accuracy: 0.9943 - val_loss: 0.0687 - val_accuracy: 0.9862\n",
      "Epoch 20/20\n",
      "107/107 [==============================] - 0s 4ms/step - loss: 0.0197 - accuracy: 0.9940 - val_loss: 0.0683 - val_accuracy: 0.9850\n"
     ]
    }
   ],
   "source": [
    "model_base_3.compile(\n",
    "  optimizer=tf.keras.optimizers.Adam(),\n",
    "  loss=tf.keras.losses.SparseCategoricalCrossentropy(from_logits=True),\n",
    "  # El \"from_logits = True\" hace que nuestra salida sea\n",
    "  # una funcion de logit como la funcion softmax\n",
    "  metrics=[\"accuracy\"])\n",
    "\n",
    "\n",
    "epochs = 20\n",
    "history_base_3 = model_base_3.fit(train_ds,\n",
    "  validation_data = val_ds,\n",
    "  epochs=epochs\n",
    ")\n",
    "\n"
   ]
  },
  {
   "cell_type": "markdown",
   "metadata": {
    "id": "YIOOHvqV62wL"
   },
   "source": [
    "**Testeamos el modelo**"
   ]
  },
  {
   "cell_type": "code",
   "execution_count": null,
   "metadata": {
    "colab": {
     "base_uri": "https://localhost:8080/"
    },
    "executionInfo": {
     "elapsed": 340,
     "status": "ok",
     "timestamp": 1663051966789,
     "user": {
      "displayName": "Osmin Larreynaga",
      "userId": "07609879780988336972"
     },
     "user_tz": 360
    },
    "id": "s8guHWwB62wL",
    "outputId": "24d7e605-8f50-49fa-ed3a-b4d57951f756"
   },
   "outputs": [
    {
     "name": "stdout",
     "output_type": "stream",
     "text": [
      "27/27 [==============================] - 0s 3ms/step - loss: 0.0683 - accuracy: 0.9850\n"
     ]
    }
   ],
   "source": [
    "results = model_base_3.evaluate(test_ds)"
   ]
  },
  {
   "cell_type": "markdown",
   "metadata": {
    "id": "Y4puICZZ62wL"
   },
   "source": [
    "**Visualizamos resultados**\n",
    "\n",
    "En base a la función creada solo le pasamos como parametro al modelo ya entrenado."
   ]
  },
  {
   "cell_type": "code",
   "execution_count": null,
   "metadata": {
    "colab": {
     "base_uri": "https://localhost:8080/",
     "height": 564
    },
    "executionInfo": {
     "elapsed": 649,
     "status": "ok",
     "timestamp": 1663051973818,
     "user": {
      "displayName": "Osmin Larreynaga",
      "userId": "07609879780988336972"
     },
     "user_tz": 360
    },
    "id": "ISIP4rvM62wL",
    "outputId": "2c22c835-cf65-4d53-cc30-81cf13833850"
   },
   "outputs": [
    {
     "data": {
      "image/png": "[encoded data removed]",
      "text/plain": [
       "<Figure size 1152x648 with 2 Axes>"
      ]
     },
     "metadata": {
      "needs_background": "light"
     },
     "output_type": "display_data"
    }
   ],
   "source": [
    "visualizacion_resultados(history_base_3, epochs)"
   ]
  },
  {
   "cell_type": "markdown",
   "metadata": {
    "id": "TJzao2yf62wM"
   },
   "source": [
    "**Está claro que es un caso de overfitting, donde nuestro modelo funciona muy bien en entrenamiento pero no es capaz de generalizar correctamente.**"
   ]
  },
  {
   "cell_type": "code",
   "execution_count": null,
   "metadata": {
    "id": "jpGkXbxJgvGf"
   },
   "outputs": [],
   "source": [
    "#Guardamos nuestro modelo y lo descargamos\n",
    "model_base_3.save(\"prueba_3.h5\")"
   ]
  },
  {
   "cell_type": "markdown",
   "metadata": {
    "id": "NYzyH7YR7FKF"
   },
   "source": [
    "#### Prueba 4\n"
   ]
  },
  {
   "cell_type": "markdown",
   "metadata": {
    "id": "v05NOo_woH87"
   },
   "source": [
    "Probaremos y reduciremos las neuronas en las capas manteniendo las mismas capaz para probar. **Mantenemos el dropout**\n",
    "\n",
    "**Capa de Entrada:** [3072]\n",
    "\n",
    "**Capas Ocultas:** [128:64:32] [Linear: Relu: Relu]\n",
    "\n",
    "**Capa de Salida:** [10]"
   ]
  },
  {
   "cell_type": "code",
   "execution_count": null,
   "metadata": {
    "colab": {
     "base_uri": "https://localhost:8080/"
    },
    "executionInfo": {
     "elapsed": 204,
     "status": "ok",
     "timestamp": 1663052254291,
     "user": {
      "displayName": "Osmin Larreynaga",
      "userId": "07609879780988336972"
     },
     "user_tz": 360
    },
    "id": "OCzSkCSo7FKG",
    "outputId": "2a7ad723-edb8-49ee-d589-991a2900e1d6"
   },
   "outputs": [
    {
     "name": "stdout",
     "output_type": "stream",
     "text": [
      "Model: \"Red_Neuronal_4\"\n",
      "_________________________________________________________________\n",
      " Layer (type)                Output Shape              Param #   \n",
      "=================================================================\n",
      " Prepro_Imags (Rescaling)    (None, 32, 32, 3)         0         \n",
      "                                                                 \n",
      " Entrada (Flatten)           (None, 3072)              0         \n",
      "                                                                 \n",
      " Capa_oculta_1 (Dense)       (None, 128)               393344    \n",
      "                                                                 \n",
      " dropout_21 (Dropout)        (None, 128)               0         \n",
      "                                                                 \n",
      " Capa_oculta_2 (Dense)       (None, 64)                8256      \n",
      "                                                                 \n",
      " dropout_22 (Dropout)        (None, 64)                0         \n",
      "                                                                 \n",
      " Capa_oculta_3 (Dense)       (None, 32)                2080      \n",
      "                                                                 \n",
      " dropout_23 (Dropout)        (None, 32)                0         \n",
      "                                                                 \n",
      " Salida (Dense)              (None, 10)                330       \n",
      "                                                                 \n",
      "=================================================================\n",
      "Total params: 404,010\n",
      "Trainable params: 404,010\n",
      "Non-trainable params: 0\n",
      "_________________________________________________________________\n"
     ]
    }
   ],
   "source": [
    "model_base_4 = Sequential([\n",
    "    # Convertimos la imagen de 0, 255 a 0 hasta 1\n",
    "    layers.Rescaling(1./255, input_shape=(img_height, img_width, 3), name='Prepro_Imags'),\n",
    "    # Aplana los (32, 32, 3) a 3072, haciendolo un vector columna\n",
    "    layers.Flatten(name='Entrada'),\n",
    "    # Primera capa oculta\n",
    "    layers.Dense(128, activation='relu', name='Capa_oculta_1'),\n",
    "    layers.Dropout(0.2),\n",
    "    # Segunda capa oculta \n",
    "    layers.Dense(64, activation='relu', name='Capa_oculta_2'),\n",
    "    layers.Dropout(0.2),\n",
    "    #Tercer capa oculta\n",
    "    layers.Dense(32, activation='relu', name='Capa_oculta_3'),\n",
    "    layers.Dropout(0.2),\n",
    "    # Salida red neuronal\n",
    "    layers.Dense(num_classes, name='Salida')\n",
    "\n",
    "], name=\"Red_Neuronal_4\")\n",
    "\n",
    "\n",
    "model_base_4.summary()\n"
   ]
  },
  {
   "cell_type": "code",
   "execution_count": null,
   "metadata": {
    "colab": {
     "base_uri": "https://localhost:8080/"
    },
    "executionInfo": {
     "elapsed": 9667,
     "status": "ok",
     "timestamp": 1663052266842,
     "user": {
      "displayName": "Osmin Larreynaga",
      "userId": "07609879780988336972"
     },
     "user_tz": 360
    },
    "id": "HD71crNS7FKH",
    "outputId": "4bef6c59-9baf-4fdf-fc1a-988a8f3cb7c9"
   },
   "outputs": [
    {
     "name": "stdout",
     "output_type": "stream",
     "text": [
      "Epoch 1/20\n",
      "107/107 [==============================] - 1s 5ms/step - loss: 0.9037 - accuracy: 0.6910 - val_loss: 0.2478 - val_accuracy: 0.9282\n",
      "Epoch 2/20\n",
      "107/107 [==============================] - 0s 4ms/step - loss: 0.3375 - accuracy: 0.8947 - val_loss: 0.1539 - val_accuracy: 0.9524\n",
      "Epoch 3/20\n",
      "107/107 [==============================] - 0s 4ms/step - loss: 0.2372 - accuracy: 0.9279 - val_loss: 0.1287 - val_accuracy: 0.9641\n",
      "Epoch 4/20\n",
      "107/107 [==============================] - 0s 4ms/step - loss: 0.1796 - accuracy: 0.9473 - val_loss: 0.1066 - val_accuracy: 0.9688\n",
      "Epoch 5/20\n",
      "107/107 [==============================] - 0s 4ms/step - loss: 0.1448 - accuracy: 0.9566 - val_loss: 0.0967 - val_accuracy: 0.9738\n",
      "Epoch 6/20\n",
      "107/107 [==============================] - 0s 4ms/step - loss: 0.1238 - accuracy: 0.9632 - val_loss: 0.0920 - val_accuracy: 0.9759\n",
      "Epoch 7/20\n",
      "107/107 [==============================] - 0s 4ms/step - loss: 0.1047 - accuracy: 0.9695 - val_loss: 0.0826 - val_accuracy: 0.9762\n",
      "Epoch 8/20\n",
      "107/107 [==============================] - 0s 4ms/step - loss: 0.0937 - accuracy: 0.9713 - val_loss: 0.0860 - val_accuracy: 0.9759\n",
      "Epoch 9/20\n",
      "107/107 [==============================] - 0s 4ms/step - loss: 0.0854 - accuracy: 0.9743 - val_loss: 0.0924 - val_accuracy: 0.9771\n",
      "Epoch 10/20\n",
      "107/107 [==============================] - 0s 4ms/step - loss: 0.0823 - accuracy: 0.9774 - val_loss: 0.0878 - val_accuracy: 0.9774\n",
      "Epoch 11/20\n",
      "107/107 [==============================] - 0s 4ms/step - loss: 0.0790 - accuracy: 0.9760 - val_loss: 0.0855 - val_accuracy: 0.9776\n",
      "Epoch 12/20\n",
      "107/107 [==============================] - 0s 4ms/step - loss: 0.0663 - accuracy: 0.9802 - val_loss: 0.0789 - val_accuracy: 0.9815\n",
      "Epoch 13/20\n",
      "107/107 [==============================] - 0s 4ms/step - loss: 0.0634 - accuracy: 0.9812 - val_loss: 0.0866 - val_accuracy: 0.9759\n",
      "Epoch 14/20\n",
      "107/107 [==============================] - 0s 4ms/step - loss: 0.0603 - accuracy: 0.9825 - val_loss: 0.1050 - val_accuracy: 0.9765\n",
      "Epoch 15/20\n",
      "107/107 [==============================] - 0s 4ms/step - loss: 0.0542 - accuracy: 0.9837 - val_loss: 0.0794 - val_accuracy: 0.9815\n",
      "Epoch 16/20\n",
      "107/107 [==============================] - 0s 4ms/step - loss: 0.0434 - accuracy: 0.9879 - val_loss: 0.0880 - val_accuracy: 0.9800\n",
      "Epoch 17/20\n",
      "107/107 [==============================] - 0s 4ms/step - loss: 0.0528 - accuracy: 0.9845 - val_loss: 0.0823 - val_accuracy: 0.9800\n",
      "Epoch 18/20\n",
      "107/107 [==============================] - 0s 4ms/step - loss: 0.0469 - accuracy: 0.9847 - val_loss: 0.0822 - val_accuracy: 0.9829\n",
      "Epoch 19/20\n",
      "107/107 [==============================] - 0s 4ms/step - loss: 0.0467 - accuracy: 0.9860 - val_loss: 0.0990 - val_accuracy: 0.9776\n",
      "Epoch 20/20\n",
      "107/107 [==============================] - 0s 4ms/step - loss: 0.0510 - accuracy: 0.9841 - val_loss: 0.0914 - val_accuracy: 0.9794\n"
     ]
    }
   ],
   "source": [
    "model_base_4.compile(\n",
    "  optimizer=tf.keras.optimizers.Adam(),\n",
    "  loss=tf.keras.losses.SparseCategoricalCrossentropy(from_logits=True),\n",
    "  # El \"from_logits = True\" hace que nuestra salida sea\n",
    "  # una funcion de logit como la funcion softmax\n",
    "  metrics=[\"accuracy\"])\n",
    "\n",
    "\n",
    "epochs = 20\n",
    "history_base_4 = model_base_4.fit(train_ds,\n",
    "  validation_data = val_ds,\n",
    "  epochs=epochs\n",
    ")\n",
    "\n"
   ]
  },
  {
   "cell_type": "markdown",
   "metadata": {
    "id": "NkhJSuEe7FKI"
   },
   "source": [
    "**Testeamos el modelo**"
   ]
  },
  {
   "cell_type": "code",
   "execution_count": null,
   "metadata": {
    "colab": {
     "base_uri": "https://localhost:8080/"
    },
    "executionInfo": {
     "elapsed": 411,
     "status": "ok",
     "timestamp": 1663052275255,
     "user": {
      "displayName": "Osmin Larreynaga",
      "userId": "07609879780988336972"
     },
     "user_tz": 360
    },
    "id": "6z8RB9n07FKJ",
    "outputId": "419ab307-95ca-42d7-f590-2ec07e32bc22"
   },
   "outputs": [
    {
     "name": "stdout",
     "output_type": "stream",
     "text": [
      "27/27 [==============================] - 0s 3ms/step - loss: 0.0914 - accuracy: 0.9794\n"
     ]
    }
   ],
   "source": [
    "results = model_base_4.evaluate(test_ds)"
   ]
  },
  {
   "cell_type": "markdown",
   "metadata": {
    "id": "2MFjx9097FKJ"
   },
   "source": [
    "**Visualizamos resultados**"
   ]
  },
  {
   "cell_type": "code",
   "execution_count": null,
   "metadata": {
    "colab": {
     "base_uri": "https://localhost:8080/",
     "height": 567
    },
    "executionInfo": {
     "elapsed": 576,
     "status": "ok",
     "timestamp": 1663052283324,
     "user": {
      "displayName": "Osmin Larreynaga",
      "userId": "07609879780988336972"
     },
     "user_tz": 360
    },
    "id": "QWiAJei07FKK",
    "outputId": "a03a02c7-0acf-4131-9af8-65b28df0fe0b"
   },
   "outputs": [
    {
     "data": {
      "image/png": "[encoded data removed]",
      "text/plain": [
       "<Figure size 1152x648 with 2 Axes>"
      ]
     },
     "metadata": {
      "needs_background": "light"
     },
     "output_type": "display_data"
    }
   ],
   "source": [
    "visualizacion_resultados(history_base_4, epochs)"
   ]
  },
  {
   "cell_type": "code",
   "execution_count": null,
   "metadata": {
    "id": "LcaiuSS8jmH9"
   },
   "outputs": [],
   "source": [
    "#Guardamos nuestro modelo y lo descargamos\n",
    "model_base_4.save(\"prueba_4.h5\")"
   ]
  },
  {
   "cell_type": "markdown",
   "metadata": {
    "id": "5IHYHnso7FKK"
   },
   "source": [
    "**Con una arquitectura más simple tuvimos mejor respuesta que la prueba 3, por lo tanto, se puede decir que la prueba 4 fue la mejor red entrenada dando un resultado bastante aceptable más quizas el perfecto.**"
   ]
  },
  {
   "cell_type": "markdown",
   "metadata": {
    "id": "gWZM3fwnbaYF"
   },
   "source": [
    "## Producción\n",
    "\n",
    "Se detalla como sacar el mejor modelo entrenado para colocarlo en producción. Sin embargo, no se desarrolla el cómo llevar este modelo a producción debido a lo complejo que puede llegar hacer aunque si se muestra y prueba el modelo ante imagenes creada al momento llegando hacer capaz de clasificar correctamente los números hindi."
   ]
  },
  {
   "cell_type": "markdown",
   "metadata": {
    "id": "dCPgh3FXbWH3"
   },
   "source": [
    "**Exportación del modelo**"
   ]
  },
  {
   "cell_type": "markdown",
   "metadata": {
    "id": "dVZuuwDxDxow"
   },
   "source": [
    "Recordemos que Colaboratory no guarda ningun cálculo realizado, más si queda guardada las salidas que se tuvo al correr las celdas durante la sesión. Por lo tanto a no guardar ningun dato en memoria no volatil nuestros modelos entrenados se pierden. Como solución a eso puede realizar lo siguiente:"
   ]
  },
  {
   "cell_type": "code",
   "execution_count": null,
   "metadata": {
    "id": "HeOksZbSKRzf"
   },
   "outputs": [],
   "source": [
    "#Exportamos el model en formato h5\n",
    "model_base_4.save(\"mejor_modelo_hindi_numeros.h5\")\n",
    "\n"
   ]
  },
  {
   "cell_type": "markdown",
   "metadata": {
    "id": "1LzKGu69Fwr3"
   },
   "source": [
    "Se tomó de base la documentación de tensorflow donde habla de [guardar modelos](https://www.tensorflow.org/guide/keras/save_and_serialize). Los modelos exportados guarda su arquitectura, pesos del modelo y configuraciones de entrenamiento en la compilación (model.compile) y además cualquier estado extra."
   ]
  },
  {
   "cell_type": "markdown",
   "metadata": {
    "id": "sCdhYSVlGZ_K"
   },
   "source": [
    "Con el código realizado en la linea anterior lo guardamos en `/content` como corroboración podemos lanzar los siguientes comando de linux:"
   ]
  },
  {
   "cell_type": "code",
   "execution_count": null,
   "metadata": {
    "colab": {
     "base_uri": "https://localhost:8080/"
    },
    "executionInfo": {
     "elapsed": 460,
     "status": "ok",
     "timestamp": 1663085034682,
     "user": {
      "displayName": "Osmin Larreynaga",
      "userId": "07609879780988336972"
     },
     "user_tz": 360
    },
    "id": "K9ddBLcQKWjI",
    "outputId": "645930f4-2900-431f-91f9-8ae61ae56b88"
   },
   "outputs": [
    {
     "name": "stdout",
     "output_type": "stream",
     "text": [
      "/content\n",
      "2.png  mejor_modelo_hindi_numeros.h5  sample_data\n"
     ]
    }
   ],
   "source": [
    "! pwd       #Consulta directorio actual \n",
    "! ls        #Lista contenido de directorio actual"
   ]
  },
  {
   "cell_type": "markdown",
   "metadata": {
    "id": "cnDxXLb8HLPS"
   },
   "source": [
    "Es necesario que se descargue el modelo del directorio `/content` y se guarde en la computadora personal o en el drive. Este modelo esta presente en el siguiente link de [drive](https://).\n",
    "\n"
   ]
  },
  {
   "cell_type": "markdown",
   "metadata": {
    "id": "jNAQtOhdHlfx"
   },
   "source": [
    "Como se comentó con anterioridad cuando se vuelva abrir ningun de los objetos listados con anterioridad estará presente, por lo tanto, será necesario cargar manualmente el modelo ```\n",
    "mejor_modelo_hindi_numeros.h5``` y luego lanzar el siguiente comando:\n",
    "\n"
   ]
  },
  {
   "cell_type": "code",
   "execution_count": null,
   "metadata": {
    "id": "GwJvnl5g_E7f"
   },
   "outputs": [],
   "source": [
    "# Carga el modelo subido manualmente a colab\n",
    "mejor_modelo = keras.models.load_model('mejor_modelo_hindi_numeros.h5')"
   ]
  },
  {
   "cell_type": "markdown",
   "metadata": {
    "id": "cyaSX4gR4tOj"
   },
   "source": [
    "**Prueba de modelo cargado manualmente**"
   ]
  },
  {
   "cell_type": "markdown",
   "metadata": {
    "id": "hDnnS6fo4yb7"
   },
   "source": [
    "Con PAINT **crearemos un imagen tipo .png con 32x32 pixeles**, en la cual dibujaremos manualmente el caracter númerico hindi que deseamos probar en nuestro modelo.\n",
    "\n",
    "Luego de ello subiremos nuestra imagen a la carpeta `/content/drive/MyDrive/Data_desafios/imag_prueba`\n",
    "\n",
    "\n"
   ]
  },
  {
   "cell_type": "code",
   "execution_count": null,
   "metadata": {
    "colab": {
     "base_uri": "https://localhost:8080/"
    },
    "executionInfo": {
     "elapsed": 348,
     "status": "ok",
     "timestamp": 1663085317528,
     "user": {
      "displayName": "Osmin Larreynaga",
      "userId": "07609879780988336972"
     },
     "user_tz": 360
    },
    "id": "7cTsrtU-7Y4H",
    "outputId": "4a5bc11a-eba6-4c61-d279-4d938f29b675"
   },
   "outputs": [
    {
     "name": "stdout",
     "output_type": "stream",
     "text": [
      "Nuestro imagen de prueba se encuentra en la siguiente ruta:\n",
      "/content/0.png\n",
      "<PIL.Image.Image image mode=RGB size=32x32 at 0x7F6289F9D910> \n",
      "\n",
      "\n",
      "1/1 [==============================] - 0s 33ms/step\n",
      "This image most likely belongs to digit_0 with a 100.00 percent confidence.\n",
      "\n",
      "\n",
      "[1.0000000e+02 4.4636695e-14 6.4189817e-15 9.2742153e-20 1.1117815e-15\n",
      " 9.3848805e-16 1.7649913e-13 3.8670664e-11 1.4291980e-12 2.7311481e-14]\n"
     ]
    }
   ],
   "source": [
    "# Tomamos una imagen creada por nosotros en el directorio respectivo\n",
    "\n",
    "prueba_dir = pathlib.Path('/content/0.png')\n",
    "print('Nuestro imagen de prueba se encuentra en la siguiente ruta:')\n",
    "print(prueba_dir)\n",
    "\n",
    "#En colab borra esta variable que se habia creado con anterioridad\n",
    "#Representa la entrada de nuestra RN\n",
    "img_height  = 32\n",
    "img_width   = 32\n",
    "\n",
    "\n",
    "img_prueba =  tf.keras.utils.load_img(\n",
    "    prueba_dir, target_size=(img_height, img_width)\n",
    ")\n",
    "\n",
    "print(f'{img_prueba} \\n\\n')\n",
    "img_array = tf.keras.utils.img_to_array(img_prueba)\n",
    "img_array = tf.expand_dims(img_array, 0) # Asi lo igualamos al formato Dataset Batch de tensorflow\n",
    "\n",
    "predictions = mejor_modelo.predict(img_array)\n",
    "score = tf.nn.softmax(predictions[0])\n",
    "\n",
    "\n",
    "print(\n",
    "    \"This image most likely belongs to {} with a {:.2f} percent confidence.\\n\\n\"\n",
    "    .format(class_names[np.argmax(score)], 100 * np.max(score))\n",
    ")\n",
    "\n",
    "print(100*score.numpy())"
   ]
  },
  {
   "cell_type": "markdown",
   "metadata": {
    "id": "juqAJKNmQb99"
   },
   "source": [
    "## Conclusión\n",
    "\n",
    "Condiciones de mejora para la red, se pueden dividen en las siguientes recomendaciones:\n",
    "\n",
    "### Preprocesamiento:\n",
    "*   Busca de datos null.\n",
    "*   Archivos corruptos.\n",
    "*   Balancea de la BD.\n",
    "*   Aplicación de normalización.\n",
    "*   Entendimiento de los datos, visualizandola para tener insights.\n",
    "\n",
    "### Recomendaciones en la Red Neuornal:\n",
    "\n",
    "*   Usar convoluciones (3x3) y Pooling (2x2)\n",
    "*   Usar Data augmentation para ampliar la base de datos con más variantes.\n",
    "*   Early stopping y [callbacks](https://www.tensorflow.org/guide/keras/custom_callback?hl=es-419) para al llegar un punto de interes.\n",
    "\n",
    "### Recomendación apartado programación:\n",
    "\n",
    "*   **Probar entrenando la red con scikit-learn** esta libreria si ofrece todas las metricas fundamentales como Precision, Recall, F1, Accuracy para evaular de una forma más directa."
   ]
  },
  {
   "cell_type": "markdown",
   "metadata": {
    "id": "gFo_UQ_TH4AS"
   },
   "source": [
    "# Información de sesión\n",
    "\n",
    "Como una buena práctica colocamos la información de sesión al final de este notebook realizado. De esta forma, otras personas podrán ver qué versiones de librerías y dependencias se utilizaron para nuestro análisis.\n",
    "\n",
    "Además, esto permite ver si llegara alguien a tener un problema, puede compartir esta información con la comunidad o nosotros los desarrolladores de este notebook para que sea más fácil replicar el error y poder ayudar.\n",
    "\n"
   ]
  },
  {
   "cell_type": "code",
   "execution_count": null,
   "metadata": {
    "colab": {
     "base_uri": "https://localhost:8080/"
    },
    "executionInfo": {
     "elapsed": 4353,
     "status": "ok",
     "timestamp": 1663054296537,
     "user": {
      "displayName": "Osmin Larreynaga",
      "userId": "07609879780988336972"
     },
     "user_tz": 360
    },
    "id": "k7rW5O8fIOGg",
    "outputId": "335a5fb4-0c2d-4f30-fadf-c77b8179eb07"
   },
   "outputs": [
    {
     "name": "stdout",
     "output_type": "stream",
     "text": [
      "Looking in indexes: https://pypi.org/simple, https://us-python.pkg.dev/colab-wheels/public/simple/\n",
      "Collecting session-info\n",
      "  Downloading session_info-1.0.0.tar.gz (24 kB)\n",
      "Collecting stdlib_list\n",
      "  Downloading stdlib_list-0.8.0-py3-none-any.whl (63 kB)\n",
      "\u001b[K     |████████████████████████████████| 63 kB 1.8 MB/s \n",
      "\u001b[?25hBuilding wheels for collected packages: session-info\n",
      "  Building wheel for session-info (setup.py) ... \u001b[?25l\u001b[?25hdone\n",
      "  Created wheel for session-info: filename=session_info-1.0.0-py3-none-any.whl size=8048 sha256=2c78ca9749e5c60f60d4e1947f1d69c9dd85e21a8c40cf7ee1e2580bc9022030\n",
      "  Stored in directory: /root/.cache/pip/wheels/bd/ad/14/6a42359351a18337a8683854cfbba99dd782271f2d1767f87f\n",
      "Successfully built session-info\n",
      "Installing collected packages: stdlib-list, session-info\n",
      "Successfully installed session-info-1.0.0 stdlib-list-0.8.0\n"
     ]
    }
   ],
   "source": [
    "# Lo instalamos debido a que no viene por default en los notebooks\n",
    "! pip install session-info"
   ]
  },
  {
   "cell_type": "code",
   "execution_count": null,
   "metadata": {
    "colab": {
     "base_uri": "https://localhost:8080/",
     "height": 381
    },
    "executionInfo": {
     "elapsed": 1111,
     "status": "ok",
     "timestamp": 1663054302998,
     "user": {
      "displayName": "Osmin Larreynaga",
      "userId": "07609879780988336972"
     },
     "user_tz": 360
    },
    "id": "_q_ghdI6ICUm",
    "outputId": "5e32b628-9621-4d35-f12c-c3ec8ef6a4bc"
   },
   "outputs": [
    {
     "data": {
      "text/html": [
       "<details>\n",
       "<summary>Click to view session information</summary>\n",
       "<pre>\n",
       "-----\n",
       "PIL                 7.1.2\n",
       "cv2                 4.6.0\n",
       "keras               2.10.0\n",
       "matplotlib          3.2.2\n",
       "numpy               1.21.6\n",
       "session_info        1.0.0\n",
       "tensorflow          2.10.0\n",
       "-----\n",
       "</pre>\n",
       "<details>\n",
       "<summary>Click to view modules imported as dependencies</summary>\n",
       "<pre>\n",
       "aa8f2297d25b4dc6fd3d98411eb3ba53823c4f42    NA\n",
       "absl                                        NA\n",
       "astor                                       0.8.1\n",
       "astunparse                                  1.6.3\n",
       "backcall                                    0.2.0\n",
       "beta_ufunc                                  NA\n",
       "binom_ufunc                                 NA\n",
       "cached_property                             1.5.2\n",
       "certifi                                     2022.06.15\n",
       "cffi                                        1.15.1\n",
       "chardet                                     3.0.4\n",
       "cloudpickle                                 1.5.0\n",
       "cycler                                      0.10.0\n",
       "cython_runtime                              NA\n",
       "dateutil                                    2.8.2\n",
       "debugpy                                     1.0.0\n",
       "decorator                                   4.4.2\n",
       "dill                                        0.3.5.1\n",
       "etils                                       0.7.1\n",
       "flatbuffers                                 2.0.7\n",
       "fsspec                                      2022.8.2\n",
       "gast                                        NA\n",
       "google                                      NA\n",
       "google_auth_httplib2                        NA\n",
       "googleapiclient                             NA\n",
       "h5py                                        3.1.0\n",
       "httplib2                                    0.17.4\n",
       "idna                                        2.10\n",
       "importlib_metadata                          NA\n",
       "importlib_resources                         NA\n",
       "ipykernel                                   5.3.4\n",
       "ipython_genutils                            0.2.0\n",
       "jax                                         0.3.17\n",
       "jaxlib                                      0.3.15\n",
       "kiwisolver                                  1.4.4\n",
       "mpl_toolkits                                NA\n",
       "nbinom_ufunc                                NA\n",
       "numexpr                                     2.8.3\n",
       "oauth2client                                4.1.3\n",
       "opt_einsum                                  v3.3.0\n",
       "packaging                                   21.3\n",
       "pandas                                      1.3.5\n",
       "pexpect                                     4.8.0\n",
       "pickleshare                                 0.7.5\n",
       "pkg_resources                               NA\n",
       "portpicker                                  NA\n",
       "prompt_toolkit                              2.0.10\n",
       "psutil                                      5.4.8\n",
       "ptyprocess                                  0.7.0\n",
       "pyarrow                                     6.0.1\n",
       "pyasn1                                      0.4.8\n",
       "pyasn1_modules                              0.2.8\n",
       "pydev_ipython                               NA\n",
       "pydevconsole                                NA\n",
       "pydevd                                      2.0.0\n",
       "pydevd_concurrency_analyser                 NA\n",
       "pydevd_file_utils                           NA\n",
       "pydevd_plugins                              NA\n",
       "pydevd_tracing                              NA\n",
       "pydot_ng                                    2.0.0\n",
       "pygments                                    2.6.1\n",
       "pyparsing                                   3.0.9\n",
       "pytz                                        2022.2.1\n",
       "requests                                    2.23.0\n",
       "rsa                                         4.9\n",
       "scipy                                       1.7.3\n",
       "sitecustomize                               NA\n",
       "six                                         1.15.0\n",
       "socks                                       1.7.1\n",
       "sphinxcontrib                               NA\n",
       "storemagic                                  NA\n",
       "tblib                                       1.7.0\n",
       "tensorboard                                 2.10.0\n",
       "termcolor                                   1.1.0\n",
       "tornado                                     5.1.1\n",
       "traitlets                                   5.1.1\n",
       "typing_extensions                           NA\n",
       "uritemplate                                 3.0.1\n",
       "urllib3                                     1.24.3\n",
       "wcwidth                                     0.2.5\n",
       "wrapt                                       1.14.1\n",
       "zipp                                        NA\n",
       "zmq                                         23.2.1\n",
       "</pre>\n",
       "</details> <!-- seems like this ends pre, so might as well be explicit -->\n",
       "<pre>\n",
       "-----\n",
       "IPython             7.9.0\n",
       "jupyter_client      6.1.12\n",
       "jupyter_core        4.11.1\n",
       "notebook            5.3.1\n",
       "-----\n",
       "Python 3.7.13 (default, Apr 24 2022, 01:04:09) [GCC 7.5.0]\n",
       "Linux-5.10.133+-x86_64-with-Ubuntu-18.04-bionic\n",
       "-----\n",
       "Session information updated at 2022-09-13 07:31\n",
       "</pre>\n",
       "</details>"
      ],
      "text/plain": [
       "<IPython.core.display.HTML object>"
      ]
     },
     "execution_count": 88,
     "metadata": {},
     "output_type": "execute_result"
    }
   ],
   "source": [
    "import session_info\n",
    "\n",
    "session_info.show()\n"
   ]
  }
 ],
 "metadata": {
  "accelerator": "GPU",
  "colab": {
   "authorship_tag": "ABX9TyPMGkrAW+WQDw+ECjHxKYnf",
   "collapsed_sections": [],
   "provenance": [],
   "toc_visible": true
  },
  "gpuClass": "standard",
  "kernelspec": {
   "display_name": "Python 3 (ipykernel)",
   "language": "python",
   "name": "python3"
  },
  "language_info": {
   "codemirror_mode": {
    "name": "ipython",
    "version": 3
   },
   "file_extension": ".py",
   "mimetype": "text/x-python",
   "name": "python",
   "nbconvert_exporter": "python",
   "pygments_lexer": "ipython3",
   "version": "3.9.13"
  }
 },
 "nbformat": 4,
 "nbformat_minor": 1
}
